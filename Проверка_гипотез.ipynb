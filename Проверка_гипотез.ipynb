{
  "nbformat": 4,
  "nbformat_minor": 0,
  "metadata": {
    "kernelspec": {
      "display_name": "Python 3",
      "language": "python",
      "name": "python3"
    },
    "language_info": {
      "codemirror_mode": {
        "name": "ipython",
        "version": 3
      },
      "file_extension": ".py",
      "mimetype": "text/x-python",
      "name": "python",
      "nbconvert_exporter": "python",
      "pygments_lexer": "ipython3",
      "version": "3.7.0"
    },
    "colab": {
      "name": "Проверка гипотез.ipynb",
      "provenance": [],
      "collapsed_sections": [],
      "toc_visible": true
    }
  },
  "cells": [
    {
      "cell_type": "code",
      "metadata": {
        "id": "ZeJ9wld8Vo4d"
      },
      "source": [
        "import numpy as np\n",
        "import pandas as pd"
      ],
      "execution_count": null,
      "outputs": []
    },
    {
      "cell_type": "code",
      "metadata": {
        "id": "ipCI8WYsVo6P"
      },
      "source": [
        "data = pd.read_excel('Opros.xlsx')"
      ],
      "execution_count": null,
      "outputs": []
    },
    {
      "cell_type": "code",
      "metadata": {
        "id": "XszwfKxYVo7Y"
      },
      "source": [
        "data.columns = ['Time', 'Experiment', 'Time_pressure', 'Type', 'Age', 'Attention', 'Reasons_of_choise', 'Bad_ingredients_importance',\n",
        "                'Bad_ingredients', 'Reasons_to_buy', 'Problems']"
      ],
      "execution_count": null,
      "outputs": []
    },
    {
      "cell_type": "code",
      "metadata": {
        "id": "Lz94Y6KIVo7s",
        "colab": {
          "base_uri": "https://localhost:8080/",
          "height": 742
        },
        "outputId": "a0efc717-ae8d-447b-858e-55cfbc7ff134"
      },
      "source": [
        "data"
      ],
      "execution_count": null,
      "outputs": [
        {
          "output_type": "execute_result",
          "data": {
            "text/html": [
              "<div>\n",
              "<style scoped>\n",
              "    .dataframe tbody tr th:only-of-type {\n",
              "        vertical-align: middle;\n",
              "    }\n",
              "\n",
              "    .dataframe tbody tr th {\n",
              "        vertical-align: top;\n",
              "    }\n",
              "\n",
              "    .dataframe thead th {\n",
              "        text-align: right;\n",
              "    }\n",
              "</style>\n",
              "<table border=\"1\" class=\"dataframe\">\n",
              "  <thead>\n",
              "    <tr style=\"text-align: right;\">\n",
              "      <th></th>\n",
              "      <th>Time</th>\n",
              "      <th>Experiment</th>\n",
              "      <th>Time_pressure</th>\n",
              "      <th>Type</th>\n",
              "      <th>Age</th>\n",
              "      <th>Attention</th>\n",
              "      <th>Reasons_of_choise</th>\n",
              "      <th>Bad_ingredients_importance</th>\n",
              "      <th>Bad_ingredients</th>\n",
              "      <th>Reasons_to_buy</th>\n",
              "      <th>Problems</th>\n",
              "    </tr>\n",
              "  </thead>\n",
              "  <tbody>\n",
              "    <tr>\n",
              "      <th>0</th>\n",
              "      <td>2020-02-28 15:51:09.693</td>\n",
              "      <td>ВК-ВН</td>\n",
              "      <td>ON</td>\n",
              "      <td>Вкусный, Качественный</td>\n",
              "      <td>19</td>\n",
              "      <td>Упаковка, внешний вид</td>\n",
              "      <td>Цена, состав</td>\n",
              "      <td>Частично</td>\n",
              "      <td>-</td>\n",
              "      <td>Диета</td>\n",
              "      <td>Нет</td>\n",
              "    </tr>\n",
              "    <tr>\n",
              "      <th>1</th>\n",
              "      <td>2020-02-28 15:54:31.104</td>\n",
              "      <td>ВК-ВН</td>\n",
              "      <td>ON</td>\n",
              "      <td>Вкусный, Качественный</td>\n",
              "      <td>19</td>\n",
              "      <td>Состав</td>\n",
              "      <td>Состав, упаковка</td>\n",
              "      <td>Да</td>\n",
              "      <td>Все ингредиенты, которые кажутся ненатуральными</td>\n",
              "      <td>Много ненатуральных ингредиентов, непривлекате...</td>\n",
              "      <td>Нет</td>\n",
              "    </tr>\n",
              "    <tr>\n",
              "      <th>2</th>\n",
              "      <td>2020-02-28 15:55:20.771</td>\n",
              "      <td>ВК-ВН</td>\n",
              "      <td>ON</td>\n",
              "      <td>Вкусный, Качественный</td>\n",
              "      <td>20</td>\n",
              "      <td>Запах</td>\n",
              "      <td>Бренд, упаковка</td>\n",
              "      <td>Нет</td>\n",
              "      <td>Разная непонятная мне химия</td>\n",
              "      <td>Если она очень дешевая. Если это известная марка</td>\n",
              "      <td>Нет</td>\n",
              "    </tr>\n",
              "    <tr>\n",
              "      <th>3</th>\n",
              "      <td>2020-02-28 15:56:12.959</td>\n",
              "      <td>ВК-ВН</td>\n",
              "      <td>ON</td>\n",
              "      <td>Вкусный, Качественный</td>\n",
              "      <td>22</td>\n",
              "      <td>Состав</td>\n",
              "      <td>Вкус, состав, цена</td>\n",
              "      <td>Да</td>\n",
              "      <td>Все, которые я не понимаю</td>\n",
              "      <td>Не знаю</td>\n",
              "      <td>Нет</td>\n",
              "    </tr>\n",
              "    <tr>\n",
              "      <th>4</th>\n",
              "      <td>2020-02-28 15:56:18.634</td>\n",
              "      <td>ВК-ВН</td>\n",
              "      <td>ON</td>\n",
              "      <td>Вкусный, Качественный</td>\n",
              "      <td>20</td>\n",
              "      <td>На состав</td>\n",
              "      <td>На упаковку, читаю состав, проверяю его на нал...</td>\n",
              "      <td>Имеет значение, но если очень хочется шоколад,...</td>\n",
              "      <td>Е добавки, какие-нибудь эмульгаторы</td>\n",
              "      <td>Смотрю на упаковку. Нравится визуально - беру....</td>\n",
              "      <td>Никаких</td>\n",
              "    </tr>\n",
              "    <tr>\n",
              "      <th>...</th>\n",
              "      <td>...</td>\n",
              "      <td>...</td>\n",
              "      <td>...</td>\n",
              "      <td>...</td>\n",
              "      <td>...</td>\n",
              "      <td>...</td>\n",
              "      <td>...</td>\n",
              "      <td>...</td>\n",
              "      <td>...</td>\n",
              "      <td>...</td>\n",
              "      <td>...</td>\n",
              "    </tr>\n",
              "    <tr>\n",
              "      <th>57</th>\n",
              "      <td>2020-03-02 16:38:55.309</td>\n",
              "      <td>ВК-ВН</td>\n",
              "      <td>OFF</td>\n",
              "      <td>Вкусный, Некачественный</td>\n",
              "      <td>20</td>\n",
              "      <td>Мятость упаковки и описание сзади</td>\n",
              "      <td>Дизайн, вкус, с орехами или без, сколько проце...</td>\n",
              "      <td>Не обращаю внимание</td>\n",
              "      <td>Никогда не думал об этом</td>\n",
              "      <td>Если бы мне просто предложили её на улице не в...</td>\n",
              "      <td>Неть</td>\n",
              "    </tr>\n",
              "    <tr>\n",
              "      <th>58</th>\n",
              "      <td>2020-03-02 16:41:03.512</td>\n",
              "      <td>ВК-ВН</td>\n",
              "      <td>OFF</td>\n",
              "      <td>Вкусный, Качественный</td>\n",
              "      <td>19</td>\n",
              "      <td>На натуральность состава</td>\n",
              "      <td>На цену и бренд</td>\n",
              "      <td>Имеет</td>\n",
              "      <td>Пальмовое масло</td>\n",
              "      <td>Если у меня нет денег на шоколадку именно ту. ...</td>\n",
              "      <td>Иногда не бывает нужного вкуса в магазине</td>\n",
              "    </tr>\n",
              "    <tr>\n",
              "      <th>59</th>\n",
              "      <td>2020-03-02 17:36:16.912</td>\n",
              "      <td>ВК-ВН</td>\n",
              "      <td>OFF</td>\n",
              "      <td>Вкусный, Некачественный</td>\n",
              "      <td>22</td>\n",
              "      <td>Состав, размер упаковки, вид упаковки, удобств...</td>\n",
              "      <td>Вкус, цена, марка</td>\n",
              "      <td>Да</td>\n",
              "      <td>Вредные (не помню)</td>\n",
              "      <td>Она либо жутко дорогая , либо стремная, либо г...</td>\n",
              "      <td>Нет, одна была очевидно хуже другой</td>\n",
              "    </tr>\n",
              "    <tr>\n",
              "      <th>60</th>\n",
              "      <td>NaT</td>\n",
              "      <td>NaN</td>\n",
              "      <td>NaN</td>\n",
              "      <td>NaN</td>\n",
              "      <td>Ср в-ст респондента</td>\n",
              "      <td>NaN</td>\n",
              "      <td>NaN</td>\n",
              "      <td>NaN</td>\n",
              "      <td>NaN</td>\n",
              "      <td>NaN</td>\n",
              "      <td>NaN</td>\n",
              "    </tr>\n",
              "    <tr>\n",
              "      <th>61</th>\n",
              "      <td>NaT</td>\n",
              "      <td>NaN</td>\n",
              "      <td>NaN</td>\n",
              "      <td>NaN</td>\n",
              "      <td>20.5333</td>\n",
              "      <td>39 состав 33 упаковка</td>\n",
              "      <td>27 состав 34 упаковка 12 цена 16 бренд</td>\n",
              "      <td>30 да 27 нет</td>\n",
              "      <td>23 ешки 19 масло</td>\n",
              "      <td>NaN</td>\n",
              "      <td>NaN</td>\n",
              "    </tr>\n",
              "  </tbody>\n",
              "</table>\n",
              "<p>62 rows × 11 columns</p>\n",
              "</div>"
            ],
            "text/plain": [
              "                      Time  ...                                   Problems\n",
              "0  2020-02-28 15:51:09.693  ...                                        Нет\n",
              "1  2020-02-28 15:54:31.104  ...                                        Нет\n",
              "2  2020-02-28 15:55:20.771  ...                                        Нет\n",
              "3  2020-02-28 15:56:12.959  ...                                        Нет\n",
              "4  2020-02-28 15:56:18.634  ...                                   Никаких \n",
              "..                     ...  ...                                        ...\n",
              "57 2020-03-02 16:38:55.309  ...                                       Неть\n",
              "58 2020-03-02 16:41:03.512  ...  Иногда не бывает нужного вкуса в магазине\n",
              "59 2020-03-02 17:36:16.912  ...        Нет, одна была очевидно хуже другой\n",
              "60                     NaT  ...                                        NaN\n",
              "61                     NaT  ...                                        NaN\n",
              "\n",
              "[62 rows x 11 columns]"
            ]
          },
          "metadata": {
            "tags": []
          },
          "execution_count": 33
        }
      ]
    },
    {
      "cell_type": "code",
      "metadata": {
        "id": "ntBSjZY1Vo77"
      },
      "source": [
        "data.drop(['Time'], axis=1, inplace=True)"
      ],
      "execution_count": null,
      "outputs": []
    },
    {
      "cell_type": "code",
      "metadata": {
        "id": "4m8gFRrYVo8L"
      },
      "source": [
        "data.drop([60, 61], axis=0, inplace=True)"
      ],
      "execution_count": null,
      "outputs": []
    },
    {
      "cell_type": "code",
      "metadata": {
        "id": "b45xM4shVo8b"
      },
      "source": [
        "ON_BK_BN = pd.get_dummies(data[(data.Time_pressure == 'ON') & (data.Experiment == 'ВК-ВН')].Type, drop_first=True)"
      ],
      "execution_count": null,
      "outputs": []
    },
    {
      "cell_type": "code",
      "metadata": {
        "id": "ZISQig2dVo8q"
      },
      "source": [
        "OFF_BK_BN = pd.get_dummies(data[(data.Time_pressure == 'OFF') & (data.Experiment == 'ВК-ВН')].Type, drop_first=True)"
      ],
      "execution_count": null,
      "outputs": []
    },
    {
      "cell_type": "code",
      "metadata": {
        "id": "inPnX6MPVo81"
      },
      "source": [
        "ON_BN_NK = pd.get_dummies(data[(data.Time_pressure == 'ON') & (data.Experiment == 'ВН-НК')].Type, drop_first=True)"
      ],
      "execution_count": null,
      "outputs": []
    },
    {
      "cell_type": "code",
      "metadata": {
        "id": "NraFoh6jVo9A"
      },
      "source": [
        "OFF_BN_NK = pd.get_dummies(data[(data.Time_pressure == 'OFF') & (data.Experiment == 'ВН-НК')].Type, drop_first=True)"
      ],
      "execution_count": null,
      "outputs": []
    },
    {
      "cell_type": "code",
      "metadata": {
        "id": "-JZUvj7KVo9Y"
      },
      "source": [
        "ON_BK_BN.columns = ['ВК-ВН']\n",
        "OFF_BK_BN.columns = ['ВК-ВН']\n",
        "ON_BN_NK.columns = ['ВН-НК']\n",
        "OFF_BN_NK.columns = ['ВН-НК']"
      ],
      "execution_count": null,
      "outputs": []
    },
    {
      "cell_type": "markdown",
      "metadata": {
        "id": "OTWDxPt8Vo9n"
      },
      "source": [
        "## Гипотеза №1\n",
        "H1: a) В условиях time pressure распределение ответов будет случайным. б) При достаточном количестве времени респонденты выберут шоколадку ВК, т.к. успеют ознакомиться с составами."
      ]
    },
    {
      "cell_type": "code",
      "metadata": {
        "id": "AF25qSH3Vo9x"
      },
      "source": [
        "from scipy.stats import mannwhitneyu"
      ],
      "execution_count": null,
      "outputs": []
    },
    {
      "cell_type": "code",
      "metadata": {
        "id": "FwI0wEG4Vo97"
      },
      "source": [
        "stat, p = mannwhitneyu(ON_BK_BN, OFF_BK_BN)"
      ],
      "execution_count": null,
      "outputs": []
    },
    {
      "cell_type": "code",
      "metadata": {
        "id": "oPKo6syYVo-F",
        "colab": {
          "base_uri": "https://localhost:8080/",
          "height": 34
        },
        "outputId": "b99720df-c449-47eb-8b02-500c59e58771"
      },
      "source": [
        "p"
      ],
      "execution_count": null,
      "outputs": [
        {
          "output_type": "execute_result",
          "data": {
            "text/plain": [
              "0.15364764363372563"
            ]
          },
          "metadata": {
            "tags": []
          },
          "execution_count": 43
        }
      ]
    },
    {
      "cell_type": "code",
      "metadata": {
        "id": "LfBCgYBWVo-S",
        "colab": {
          "base_uri": "https://localhost:8080/",
          "height": 34
        },
        "outputId": "28ab2ef2-a03c-4f6a-bd43-7b9208f7510f"
      },
      "source": [
        "alpha = 0.05\n",
        "if p > alpha:\n",
        "    print('Отвергаем гипотезу H1')\n",
        "else:\n",
        "    print('Принимаем гипотезу H1')"
      ],
      "execution_count": null,
      "outputs": [
        {
          "output_type": "stream",
          "text": [
            "Отвергаем гипотезу H1\n"
          ],
          "name": "stdout"
        }
      ]
    },
    {
      "cell_type": "markdown",
      "metadata": {
        "id": "ognfiEzbVo-k"
      },
      "source": [
        "Распределение в группах с тайм-прешер и без него получилось схожим согласно критерию Манна-Уитни, отвергаем гипотезу H1"
      ]
    },
    {
      "cell_type": "markdown",
      "metadata": {
        "id": "uXRHNjSnVo-o"
      },
      "source": [
        "## Гипотеза №2\n",
        "H2: a) В условиях time pressure респонденты выберут шоколадку ВН, так как недостаточно внимательно изучат составы. b) При достаточном количестве времени респонденты выберут шоколадку НК, т.к. успеют ознакомиться с составами.\n"
      ]
    },
    {
      "cell_type": "code",
      "metadata": {
        "id": "wjYMyiPZVo-r"
      },
      "source": [
        "stat, p = mannwhitneyu(ON_BN_NK, OFF_BN_NK)"
      ],
      "execution_count": null,
      "outputs": []
    },
    {
      "cell_type": "code",
      "metadata": {
        "id": "WOgN-8XDVo-1",
        "colab": {
          "base_uri": "https://localhost:8080/",
          "height": 34
        },
        "outputId": "de502cb8-5cfd-40ea-9abd-828d31751db0"
      },
      "source": [
        "p"
      ],
      "execution_count": null,
      "outputs": [
        {
          "output_type": "execute_result",
          "data": {
            "text/plain": [
              "0.026651913847768393"
            ]
          },
          "metadata": {
            "tags": []
          },
          "execution_count": 46
        }
      ]
    },
    {
      "cell_type": "code",
      "metadata": {
        "id": "_E3ogbSfVo-_",
        "colab": {
          "base_uri": "https://localhost:8080/",
          "height": 34
        },
        "outputId": "8c3b8257-4d02-4230-fb80-2598339fa5bc"
      },
      "source": [
        "if p > alpha:\n",
        "    print('Отвергаем гипотезу H2')\n",
        "else:\n",
        "    print('Принимаем гипотезу H2')"
      ],
      "execution_count": null,
      "outputs": [
        {
          "output_type": "stream",
          "text": [
            "Принимаем гипотезу H2\n"
          ],
          "name": "stdout"
        }
      ]
    },
    {
      "cell_type": "markdown",
      "metadata": {
        "id": "LJcHdfI7Vo_X"
      },
      "source": [
        "Распределение в группах с тайм-прешер и без него получилось действительно разным согласно критерию Манна-Уитни, принимаем гипотезу H2"
      ]
    },
    {
      "cell_type": "markdown",
      "metadata": {
        "id": "q3Vi7YeqXVzs"
      },
      "source": [
        "## Проверка гипотез по группам в зависимости от внимания к вредным ингридиентам в составе"
      ]
    },
    {
      "cell_type": "markdown",
      "metadata": {
        "id": "BtgzdKusp-JB"
      },
      "source": [
        "### Группа, обращающая внимание на состав"
      ]
    },
    {
      "cell_type": "code",
      "metadata": {
        "id": "hztexxrccReE"
      },
      "source": [
        "data_bad_ing = data[data.Bad_ingredients_importance.str.contains('Да') | (data.Bad_ingredients_importance.str.contains('Имеет')) | \n",
        "                    (data.Bad_ingredients_importance == 'Частично') | data.Bad_ingredients_importance.str.contains('иногда') | (data.Bad_ingredients_importance.str.contains('лучше без'))]"
      ],
      "execution_count": null,
      "outputs": []
    },
    {
      "cell_type": "code",
      "metadata": {
        "id": "orBWHB3faTVX",
        "colab": {
          "base_uri": "https://localhost:8080/",
          "height": 289
        },
        "outputId": "daddab50-63f2-43b6-a507-58fd7a7092fe"
      },
      "source": [
        "data_bad_ing.head()"
      ],
      "execution_count": null,
      "outputs": [
        {
          "output_type": "execute_result",
          "data": {
            "text/html": [
              "<div>\n",
              "<style scoped>\n",
              "    .dataframe tbody tr th:only-of-type {\n",
              "        vertical-align: middle;\n",
              "    }\n",
              "\n",
              "    .dataframe tbody tr th {\n",
              "        vertical-align: top;\n",
              "    }\n",
              "\n",
              "    .dataframe thead th {\n",
              "        text-align: right;\n",
              "    }\n",
              "</style>\n",
              "<table border=\"1\" class=\"dataframe\">\n",
              "  <thead>\n",
              "    <tr style=\"text-align: right;\">\n",
              "      <th></th>\n",
              "      <th>Experiment</th>\n",
              "      <th>Time_pressure</th>\n",
              "      <th>Type</th>\n",
              "      <th>Age</th>\n",
              "      <th>Attention</th>\n",
              "      <th>Reasons_of_choise</th>\n",
              "      <th>Bad_ingredients_importance</th>\n",
              "      <th>Bad_ingredients</th>\n",
              "      <th>Reasons_to_buy</th>\n",
              "      <th>Problems</th>\n",
              "    </tr>\n",
              "  </thead>\n",
              "  <tbody>\n",
              "    <tr>\n",
              "      <th>0</th>\n",
              "      <td>ВК-ВН</td>\n",
              "      <td>ON</td>\n",
              "      <td>Вкусный, Качественный</td>\n",
              "      <td>19</td>\n",
              "      <td>Упаковка, внешний вид</td>\n",
              "      <td>Цена, состав</td>\n",
              "      <td>Частично</td>\n",
              "      <td>-</td>\n",
              "      <td>Диета</td>\n",
              "      <td>Нет</td>\n",
              "    </tr>\n",
              "    <tr>\n",
              "      <th>1</th>\n",
              "      <td>ВК-ВН</td>\n",
              "      <td>ON</td>\n",
              "      <td>Вкусный, Качественный</td>\n",
              "      <td>19</td>\n",
              "      <td>Состав</td>\n",
              "      <td>Состав, упаковка</td>\n",
              "      <td>Да</td>\n",
              "      <td>Все ингредиенты, которые кажутся ненатуральными</td>\n",
              "      <td>Много ненатуральных ингредиентов, непривлекате...</td>\n",
              "      <td>Нет</td>\n",
              "    </tr>\n",
              "    <tr>\n",
              "      <th>3</th>\n",
              "      <td>ВК-ВН</td>\n",
              "      <td>ON</td>\n",
              "      <td>Вкусный, Качественный</td>\n",
              "      <td>22</td>\n",
              "      <td>Состав</td>\n",
              "      <td>Вкус, состав, цена</td>\n",
              "      <td>Да</td>\n",
              "      <td>Все, которые я не понимаю</td>\n",
              "      <td>Не знаю</td>\n",
              "      <td>Нет</td>\n",
              "    </tr>\n",
              "    <tr>\n",
              "      <th>4</th>\n",
              "      <td>ВК-ВН</td>\n",
              "      <td>ON</td>\n",
              "      <td>Вкусный, Качественный</td>\n",
              "      <td>20</td>\n",
              "      <td>На состав</td>\n",
              "      <td>На упаковку, читаю состав, проверяю его на нал...</td>\n",
              "      <td>Имеет значение, но если очень хочется шоколад,...</td>\n",
              "      <td>Е добавки, какие-нибудь эмульгаторы</td>\n",
              "      <td>Смотрю на упаковку. Нравится визуально - беру....</td>\n",
              "      <td>Никаких</td>\n",
              "    </tr>\n",
              "    <tr>\n",
              "      <th>7</th>\n",
              "      <td>ВК-ВН</td>\n",
              "      <td>ON</td>\n",
              "      <td>Вкусный, Качественный</td>\n",
              "      <td>19</td>\n",
              "      <td>Состав</td>\n",
              "      <td>Состав, вкус</td>\n",
              "      <td>Да</td>\n",
              "      <td>Красители , ароматизаторы , E</td>\n",
              "      <td>Не взяла бы, если у неё очень плохой состав ил...</td>\n",
              "      <td>Нет</td>\n",
              "    </tr>\n",
              "  </tbody>\n",
              "</table>\n",
              "</div>"
            ],
            "text/plain": [
              "  Experiment  ...  Problems\n",
              "0      ВК-ВН  ...       Нет\n",
              "1      ВК-ВН  ...       Нет\n",
              "3      ВК-ВН  ...       Нет\n",
              "4      ВК-ВН  ...  Никаких \n",
              "7      ВК-ВН  ...       Нет\n",
              "\n",
              "[5 rows x 10 columns]"
            ]
          },
          "metadata": {
            "tags": []
          },
          "execution_count": 102
        }
      ]
    },
    {
      "cell_type": "code",
      "metadata": {
        "id": "zF1hILUVawgH"
      },
      "source": [
        "ON_BK_BN_bi = pd.get_dummies(data_bad_ing[(data_bad_ing.Time_pressure == 'ON') & (data_bad_ing.Experiment == 'ВК-ВН')].Type, drop_first=True)"
      ],
      "execution_count": null,
      "outputs": []
    },
    {
      "cell_type": "code",
      "metadata": {
        "id": "WuGgThU6flve"
      },
      "source": [
        "OFF_BK_BN_bi = pd.get_dummies(data_bad_ing[(data_bad_ing.Time_pressure == 'OFF') & (data_bad_ing.Experiment == 'ВК-ВН')].Type, drop_first=True)"
      ],
      "execution_count": null,
      "outputs": []
    },
    {
      "cell_type": "code",
      "metadata": {
        "id": "Xmd_QJmpf8yc"
      },
      "source": [
        "ON_BN_NK_bi = pd.get_dummies(data_bad_ing[(data_bad_ing.Time_pressure == 'ON') & (data_bad_ing.Experiment == 'ВН-НК')].Type, drop_first=True)"
      ],
      "execution_count": null,
      "outputs": []
    },
    {
      "cell_type": "code",
      "metadata": {
        "id": "41jXdTuZgSaZ"
      },
      "source": [
        "OFF_BN_NK_bi = pd.get_dummies(data_bad_ing[(data_bad_ing.Time_pressure == 'OFF') & (data_bad_ing.Experiment == 'ВН-НК')].Type, drop_first=True)"
      ],
      "execution_count": null,
      "outputs": []
    },
    {
      "cell_type": "code",
      "metadata": {
        "id": "TxnnxYfilz-u",
        "colab": {
          "base_uri": "https://localhost:8080/",
          "height": 280
        },
        "outputId": "8efeca94-e3b3-4a1e-d4a7-a407e970d50e"
      },
      "source": [
        "ON_BK_BN_bi"
      ],
      "execution_count": null,
      "outputs": [
        {
          "output_type": "execute_result",
          "data": {
            "text/html": [
              "<div>\n",
              "<style scoped>\n",
              "    .dataframe tbody tr th:only-of-type {\n",
              "        vertical-align: middle;\n",
              "    }\n",
              "\n",
              "    .dataframe tbody tr th {\n",
              "        vertical-align: top;\n",
              "    }\n",
              "\n",
              "    .dataframe thead th {\n",
              "        text-align: right;\n",
              "    }\n",
              "</style>\n",
              "<table border=\"1\" class=\"dataframe\">\n",
              "  <thead>\n",
              "    <tr style=\"text-align: right;\">\n",
              "      <th></th>\n",
              "    </tr>\n",
              "  </thead>\n",
              "  <tbody>\n",
              "    <tr>\n",
              "      <th>0</th>\n",
              "    </tr>\n",
              "    <tr>\n",
              "      <th>1</th>\n",
              "    </tr>\n",
              "    <tr>\n",
              "      <th>3</th>\n",
              "    </tr>\n",
              "    <tr>\n",
              "      <th>4</th>\n",
              "    </tr>\n",
              "    <tr>\n",
              "      <th>7</th>\n",
              "    </tr>\n",
              "    <tr>\n",
              "      <th>8</th>\n",
              "    </tr>\n",
              "    <tr>\n",
              "      <th>9</th>\n",
              "    </tr>\n",
              "    <tr>\n",
              "      <th>49</th>\n",
              "    </tr>\n",
              "  </tbody>\n",
              "</table>\n",
              "</div>"
            ],
            "text/plain": [
              "Empty DataFrame\n",
              "Columns: []\n",
              "Index: [0, 1, 3, 4, 7, 8, 9, 49]"
            ]
          },
          "metadata": {
            "tags": []
          },
          "execution_count": 54
        }
      ]
    },
    {
      "cell_type": "markdown",
      "metadata": {
        "id": "PDiR5oOTmBhG"
      },
      "source": [
        "Видим, что в этом варианте никто не выбрал шоколадку ВН"
      ]
    },
    {
      "cell_type": "code",
      "metadata": {
        "id": "1ExFkRtjmLVc"
      },
      "source": [
        "ON_BK_BN_bi['ВК-ВН'] = [0, 0, 0, 0, 0, 0, 0, 0]"
      ],
      "execution_count": null,
      "outputs": []
    },
    {
      "cell_type": "code",
      "metadata": {
        "id": "1Qj8y7pHmgtD",
        "colab": {
          "base_uri": "https://localhost:8080/",
          "height": 297
        },
        "outputId": "668e3660-a41c-4c57-f763-863b3dd9f5e5"
      },
      "source": [
        "ON_BK_BN_bi"
      ],
      "execution_count": null,
      "outputs": [
        {
          "output_type": "execute_result",
          "data": {
            "text/html": [
              "<div>\n",
              "<style scoped>\n",
              "    .dataframe tbody tr th:only-of-type {\n",
              "        vertical-align: middle;\n",
              "    }\n",
              "\n",
              "    .dataframe tbody tr th {\n",
              "        vertical-align: top;\n",
              "    }\n",
              "\n",
              "    .dataframe thead th {\n",
              "        text-align: right;\n",
              "    }\n",
              "</style>\n",
              "<table border=\"1\" class=\"dataframe\">\n",
              "  <thead>\n",
              "    <tr style=\"text-align: right;\">\n",
              "      <th></th>\n",
              "      <th>ВК-ВН</th>\n",
              "    </tr>\n",
              "  </thead>\n",
              "  <tbody>\n",
              "    <tr>\n",
              "      <th>0</th>\n",
              "      <td>0</td>\n",
              "    </tr>\n",
              "    <tr>\n",
              "      <th>1</th>\n",
              "      <td>0</td>\n",
              "    </tr>\n",
              "    <tr>\n",
              "      <th>3</th>\n",
              "      <td>0</td>\n",
              "    </tr>\n",
              "    <tr>\n",
              "      <th>4</th>\n",
              "      <td>0</td>\n",
              "    </tr>\n",
              "    <tr>\n",
              "      <th>7</th>\n",
              "      <td>0</td>\n",
              "    </tr>\n",
              "    <tr>\n",
              "      <th>8</th>\n",
              "      <td>0</td>\n",
              "    </tr>\n",
              "    <tr>\n",
              "      <th>9</th>\n",
              "      <td>0</td>\n",
              "    </tr>\n",
              "    <tr>\n",
              "      <th>49</th>\n",
              "      <td>0</td>\n",
              "    </tr>\n",
              "  </tbody>\n",
              "</table>\n",
              "</div>"
            ],
            "text/plain": [
              "    ВК-ВН\n",
              "0       0\n",
              "1       0\n",
              "3       0\n",
              "4       0\n",
              "7       0\n",
              "8       0\n",
              "9       0\n",
              "49      0"
            ]
          },
          "metadata": {
            "tags": []
          },
          "execution_count": 56
        }
      ]
    },
    {
      "cell_type": "code",
      "metadata": {
        "id": "iDOCeGvlhNf-"
      },
      "source": [
        "OFF_BK_BN_bi.columns = ['ВК-ВН']\n",
        "ON_BN_NK_bi.columns = ['ВН-НК']\n",
        "OFF_BN_NK_bi.columns = ['ВН-НК']"
      ],
      "execution_count": null,
      "outputs": []
    },
    {
      "cell_type": "markdown",
      "metadata": {
        "id": "bLUmxO6cgute"
      },
      "source": [
        "## Гипотеза №1 для группы с вниманием к плохим ингридиентам"
      ]
    },
    {
      "cell_type": "markdown",
      "metadata": {
        "id": "zw2i2dithA8q"
      },
      "source": [
        "H1: a) В условиях time pressure распределение ответов будет случайным. b) При достаточном количестве времени респонденты выберут шоколадку ВК, т.к. успеют ознакомиться с составами."
      ]
    },
    {
      "cell_type": "code",
      "metadata": {
        "id": "scAH_YB3ghyQ"
      },
      "source": [
        "stat, p = mannwhitneyu(ON_BK_BN_bi, OFF_BK_BN_bi)"
      ],
      "execution_count": null,
      "outputs": []
    },
    {
      "cell_type": "code",
      "metadata": {
        "id": "BygIuOSxlDpu",
        "colab": {
          "base_uri": "https://localhost:8080/",
          "height": 34
        },
        "outputId": "6b111fb7-ea02-4be2-cbfe-5fac805fdc97"
      },
      "source": [
        "p"
      ],
      "execution_count": null,
      "outputs": [
        {
          "output_type": "execute_result",
          "data": {
            "text/plain": [
              "0.17478740306164908"
            ]
          },
          "metadata": {
            "tags": []
          },
          "execution_count": 59
        }
      ]
    },
    {
      "cell_type": "code",
      "metadata": {
        "id": "4MGeuNchk9Qk",
        "colab": {
          "base_uri": "https://localhost:8080/",
          "height": 34
        },
        "outputId": "8ae8ef04-ef4c-4930-afb1-8103b6481809"
      },
      "source": [
        "alpha = 0.05\n",
        "if p > alpha:\n",
        "    print('Отвергаем гипотезу H1')\n",
        "else:\n",
        "    print('Принимаем гипотезу H1')"
      ],
      "execution_count": null,
      "outputs": [
        {
          "output_type": "stream",
          "text": [
            "Отвергаем гипотезу H1\n"
          ],
          "name": "stdout"
        }
      ]
    },
    {
      "cell_type": "markdown",
      "metadata": {
        "id": "Ii19LALHnoon"
      },
      "source": [
        "Распределение в группах с тайм-прешер и без него получилось схожим согласно критерию Манна-Уитни, отвергаем гипотезу H1"
      ]
    },
    {
      "cell_type": "markdown",
      "metadata": {
        "id": "VrEU7ZxAv7nE"
      },
      "source": [
        "## Гипотеза №2 для группы с вниманием к плохим ингридиентам"
      ]
    },
    {
      "cell_type": "markdown",
      "metadata": {
        "id": "pSV45ZG3v_kU"
      },
      "source": [
        "H2: a) В условиях time pressure респонденты выберут шоколадку ВН, так как недостаточно внимательно изучат составы. b) При достаточном количестве времени респонденты выберут шоколадку НК, т.к. успеют ознакомиться с составами."
      ]
    },
    {
      "cell_type": "code",
      "metadata": {
        "id": "0QKlMWACnftc"
      },
      "source": [
        "stat, p = mannwhitneyu(ON_BN_NK_bi, OFF_BN_NK_bi)"
      ],
      "execution_count": null,
      "outputs": []
    },
    {
      "cell_type": "code",
      "metadata": {
        "id": "9FZrEoHAlHfs",
        "colab": {
          "base_uri": "https://localhost:8080/",
          "height": 34
        },
        "outputId": "fd531922-aefa-4291-d1e4-76f1132503f3"
      },
      "source": [
        "p"
      ],
      "execution_count": null,
      "outputs": [
        {
          "output_type": "execute_result",
          "data": {
            "text/plain": [
              "0.1800410573112644"
            ]
          },
          "metadata": {
            "tags": []
          },
          "execution_count": 62
        }
      ]
    },
    {
      "cell_type": "code",
      "metadata": {
        "id": "2Cff3cC9n0GA",
        "colab": {
          "base_uri": "https://localhost:8080/",
          "height": 34
        },
        "outputId": "a3a41725-9116-4811-eeb4-ce74565d0325"
      },
      "source": [
        "alpha = 0.05\n",
        "if p > alpha:\n",
        "    print('Отвергаем гипотезу H2')\n",
        "else:\n",
        "    print('Принимаем гипотезу H2')"
      ],
      "execution_count": null,
      "outputs": [
        {
          "output_type": "stream",
          "text": [
            "Отвергаем гипотезу H2\n"
          ],
          "name": "stdout"
        }
      ]
    },
    {
      "cell_type": "markdown",
      "metadata": {
        "id": "WzQu5aI1n-iT"
      },
      "source": [
        "Распределение в группах с тайм-прешер и без него получилось схожим согласно критерию Манна-Уитни, отвергаем гипотезу H2"
      ]
    },
    {
      "cell_type": "markdown",
      "metadata": {
        "id": "8g2mJsE1qIZk"
      },
      "source": [
        "### Группа, не обращающая внимание на состав"
      ]
    },
    {
      "cell_type": "code",
      "metadata": {
        "id": "6cvZJA4zn8gR"
      },
      "source": [
        "data_bad_ing_no = data[~data.Bad_ingredients_importance.str.contains('Да') & (~data.Bad_ingredients_importance.str.contains('Имеет')) & \n",
        "                    (data.Bad_ingredients_importance != 'Частично') & (~data.Bad_ingredients_importance.str.contains('иногда')) & (~data.Bad_ingredients_importance.str.contains('лучше без'))]"
      ],
      "execution_count": null,
      "outputs": []
    },
    {
      "cell_type": "code",
      "metadata": {
        "id": "W-k6hvEmqd-7",
        "colab": {
          "base_uri": "https://localhost:8080/",
          "height": 289
        },
        "outputId": "91398be7-aca2-4bed-f99e-b07b14eac7fb"
      },
      "source": [
        "data_bad_ing_no.head()"
      ],
      "execution_count": null,
      "outputs": [
        {
          "output_type": "execute_result",
          "data": {
            "text/html": [
              "<div>\n",
              "<style scoped>\n",
              "    .dataframe tbody tr th:only-of-type {\n",
              "        vertical-align: middle;\n",
              "    }\n",
              "\n",
              "    .dataframe tbody tr th {\n",
              "        vertical-align: top;\n",
              "    }\n",
              "\n",
              "    .dataframe thead th {\n",
              "        text-align: right;\n",
              "    }\n",
              "</style>\n",
              "<table border=\"1\" class=\"dataframe\">\n",
              "  <thead>\n",
              "    <tr style=\"text-align: right;\">\n",
              "      <th></th>\n",
              "      <th>Experiment</th>\n",
              "      <th>Time_pressure</th>\n",
              "      <th>Type</th>\n",
              "      <th>Age</th>\n",
              "      <th>Attention</th>\n",
              "      <th>Reasons_of_choise</th>\n",
              "      <th>Bad_ingredients_importance</th>\n",
              "      <th>Bad_ingredients</th>\n",
              "      <th>Reasons_to_buy</th>\n",
              "      <th>Problems</th>\n",
              "    </tr>\n",
              "  </thead>\n",
              "  <tbody>\n",
              "    <tr>\n",
              "      <th>2</th>\n",
              "      <td>ВК-ВН</td>\n",
              "      <td>ON</td>\n",
              "      <td>Вкусный, Качественный</td>\n",
              "      <td>20</td>\n",
              "      <td>Запах</td>\n",
              "      <td>Бренд, упаковка</td>\n",
              "      <td>Нет</td>\n",
              "      <td>Разная непонятная мне химия</td>\n",
              "      <td>Если она очень дешевая. Если это известная марка</td>\n",
              "      <td>Нет</td>\n",
              "    </tr>\n",
              "    <tr>\n",
              "      <th>5</th>\n",
              "      <td>ВК-ВН</td>\n",
              "      <td>ON</td>\n",
              "      <td>Вкусный, Качественный</td>\n",
              "      <td>20</td>\n",
              "      <td>На цвет</td>\n",
              "      <td>Упаковка</td>\n",
              "      <td>Нет</td>\n",
              "      <td>Пальмовое масло</td>\n",
              "      <td>Если не хочу сладкое и взяла бы если бы хотела</td>\n",
              "      <td>Никаких</td>\n",
              "    </tr>\n",
              "    <tr>\n",
              "      <th>6</th>\n",
              "      <td>ВК-ВН</td>\n",
              "      <td>ON</td>\n",
              "      <td>Вкусный, Качественный</td>\n",
              "      <td>20</td>\n",
              "      <td>Состав</td>\n",
              "      <td>Бренд, тип шоколада (предпочитаю горький)</td>\n",
              "      <td>Скорее нет, чем да</td>\n",
              "      <td>Заменители</td>\n",
              "      <td>Точно не взяла: много заменителей, добавок \\nТ...</td>\n",
              "      <td>Не успела полностью прочитать состав</td>\n",
              "    </tr>\n",
              "    <tr>\n",
              "      <th>10</th>\n",
              "      <td>ВН-НК</td>\n",
              "      <td>ON</td>\n",
              "      <td>Вкусный, Некачественный</td>\n",
              "      <td>20</td>\n",
              "      <td>На дизайн</td>\n",
              "      <td>На броские линкеры</td>\n",
              "      <td>Нет</td>\n",
              "      <td>Сахаааар</td>\n",
              "      <td>Если она горькая</td>\n",
              "      <td>Нет</td>\n",
              "    </tr>\n",
              "    <tr>\n",
              "      <th>11</th>\n",
              "      <td>ВН-НК</td>\n",
              "      <td>ON</td>\n",
              "      <td>Вкусный, Некачественный</td>\n",
              "      <td>21</td>\n",
              "      <td>Состав</td>\n",
              "      <td>Выглядит ли она вкусной</td>\n",
              "      <td>Нет</td>\n",
              "      <td>Я не люблю «здоровый» шоколад, потому что он н...</td>\n",
              "      <td>При условии, что там внутри кокосовый сахар, ч...</td>\n",
              "      <td>Нет</td>\n",
              "    </tr>\n",
              "  </tbody>\n",
              "</table>\n",
              "</div>"
            ],
            "text/plain": [
              "   Experiment  ...                               Problems\n",
              "2       ВК-ВН  ...                                    Нет\n",
              "5       ВК-ВН  ...                                Никаких\n",
              "6       ВК-ВН  ...  Не успела полностью прочитать состав \n",
              "10      ВН-НК  ...                                   Нет \n",
              "11      ВН-НК  ...                                    Нет\n",
              "\n",
              "[5 rows x 10 columns]"
            ]
          },
          "metadata": {
            "tags": []
          },
          "execution_count": 103
        }
      ]
    },
    {
      "cell_type": "code",
      "metadata": {
        "id": "pZwrwCmmrK2g"
      },
      "source": [
        "ON_BK_BN_bi_no = pd.get_dummies(data_bad_ing_no[(data_bad_ing_no.Time_pressure == 'ON') & (data_bad_ing_no.Experiment == 'ВК-ВН')].Type, drop_first=True)"
      ],
      "execution_count": null,
      "outputs": []
    },
    {
      "cell_type": "code",
      "metadata": {
        "id": "gXOe6im9tdSt"
      },
      "source": [
        "OFF_BK_BN_bi_no = pd.get_dummies(data_bad_ing_no[(data_bad_ing_no.Time_pressure == 'OFF') & (data_bad_ing_no.Experiment == 'ВК-ВН')].Type, drop_first=True)"
      ],
      "execution_count": null,
      "outputs": []
    },
    {
      "cell_type": "code",
      "metadata": {
        "id": "ZbnDUIJVt3VX"
      },
      "source": [
        "ON_BN_NK_bi_no = pd.get_dummies(data_bad_ing_no[(data_bad_ing_no.Time_pressure == 'ON') & (data_bad_ing_no.Experiment == 'ВН-НК')].Type, drop_first=True)"
      ],
      "execution_count": null,
      "outputs": []
    },
    {
      "cell_type": "code",
      "metadata": {
        "id": "dZHeZaAOuFK3"
      },
      "source": [
        "OFF_BN_NK_bi_no = pd.get_dummies(data_bad_ing_no[(data_bad_ing_no.Time_pressure == 'OFF') & (data_bad_ing_no.Experiment == 'ВН-НК')].Type, drop_first=True)"
      ],
      "execution_count": null,
      "outputs": []
    },
    {
      "cell_type": "code",
      "metadata": {
        "id": "U7mLVbCcuZvq"
      },
      "source": [
        "ON_BK_BN_bi_no.columns = ['ВК-ВН']\n",
        "OFF_BK_BN_bi_no.columns = ['ВК-ВН']\n",
        "ON_BN_NK_bi_no.columns = ['ВН-НК']\n",
        "OFF_BN_NK_bi_no.columns = ['ВН-НК']"
      ],
      "execution_count": null,
      "outputs": []
    },
    {
      "cell_type": "markdown",
      "metadata": {
        "id": "y7z8gL5dvb-F"
      },
      "source": [
        "## Гипотеза №1 для группы без внимания к плохим ингридиентам"
      ]
    },
    {
      "cell_type": "markdown",
      "metadata": {
        "id": "vbOxr6u6vkjw"
      },
      "source": [
        "H1: a) В условиях time pressure распределение ответов будет случайным. b) При достаточном количестве времени респонденты выберут шоколадку ВК, т.к. успеют ознакомиться с составами."
      ]
    },
    {
      "cell_type": "code",
      "metadata": {
        "id": "1kP2TVnCuyFs"
      },
      "source": [
        "stat, p = mannwhitneyu(ON_BK_BN_bi_no, OFF_BK_BN_bi_no)"
      ],
      "execution_count": null,
      "outputs": []
    },
    {
      "cell_type": "code",
      "metadata": {
        "id": "ERrdQ0kGu8TE",
        "colab": {
          "base_uri": "https://localhost:8080/",
          "height": 34
        },
        "outputId": "47397dab-0964-4709-eaf8-f4fe31ca5682"
      },
      "source": [
        "p"
      ],
      "execution_count": null,
      "outputs": [
        {
          "output_type": "execute_result",
          "data": {
            "text/plain": [
              "0.33846111951068963"
            ]
          },
          "metadata": {
            "tags": []
          },
          "execution_count": 72
        }
      ]
    },
    {
      "cell_type": "code",
      "metadata": {
        "id": "daxYZcTKu9lf",
        "colab": {
          "base_uri": "https://localhost:8080/",
          "height": 34
        },
        "outputId": "9a92817e-747b-40d9-e220-4d023116d2a6"
      },
      "source": [
        "alpha = 0.05\n",
        "if p > alpha:\n",
        "    print('Отвергаем гипотезу H1')\n",
        "else:\n",
        "    print('Принимаем гипотезу H1')"
      ],
      "execution_count": null,
      "outputs": [
        {
          "output_type": "stream",
          "text": [
            "Отвергаем гипотезу H1\n"
          ],
          "name": "stdout"
        }
      ]
    },
    {
      "cell_type": "markdown",
      "metadata": {
        "id": "7l4B78NEvMSp"
      },
      "source": [
        "Распределение в группах с тайм-прешер и без него получилось схожим согласно критерию Манна-Уитни, отвергаем гипотезу H1"
      ]
    },
    {
      "cell_type": "markdown",
      "metadata": {
        "id": "oUiTqAWTv0i1"
      },
      "source": [
        "## Гипотеза №2 для группы без внимания к плохим ингридиентам"
      ]
    },
    {
      "cell_type": "markdown",
      "metadata": {
        "id": "-6-45rkuv35O"
      },
      "source": [
        "H2: a) В условиях time pressure респонденты выберут шоколадку ВН, так как недостаточно внимательно изучат составы. b) При достаточном количестве времени респонденты выберут шоколадку НК, т.к. успеют ознакомиться с составами."
      ]
    },
    {
      "cell_type": "code",
      "metadata": {
        "id": "zDey640KvGti"
      },
      "source": [
        "stat, p = mannwhitneyu(ON_BN_NK_bi_no, OFF_BN_NK_bi_no)"
      ],
      "execution_count": null,
      "outputs": []
    },
    {
      "cell_type": "code",
      "metadata": {
        "id": "ThUPgbI_wgeH",
        "colab": {
          "base_uri": "https://localhost:8080/",
          "height": 34
        },
        "outputId": "07f32932-40ce-4f24-df8d-5f6d0f66d432"
      },
      "source": [
        "p"
      ],
      "execution_count": null,
      "outputs": [
        {
          "output_type": "execute_result",
          "data": {
            "text/plain": [
              "0.03796348149127882"
            ]
          },
          "metadata": {
            "tags": []
          },
          "execution_count": 75
        }
      ]
    },
    {
      "cell_type": "code",
      "metadata": {
        "id": "dLBxmBPIwhjf",
        "colab": {
          "base_uri": "https://localhost:8080/",
          "height": 34
        },
        "outputId": "ebc117da-940d-41b4-98cf-234c1b488f88"
      },
      "source": [
        "alpha = 0.05\n",
        "if p > alpha:\n",
        "    print('Отвергаем гипотезу H2')\n",
        "else:\n",
        "    print('Принимаем гипотезу H2')"
      ],
      "execution_count": null,
      "outputs": [
        {
          "output_type": "stream",
          "text": [
            "Принимаем гипотезу H2\n"
          ],
          "name": "stdout"
        }
      ]
    },
    {
      "cell_type": "markdown",
      "metadata": {
        "id": "HWdAm-ef41zT"
      },
      "source": [
        "Распределение в группах с тайм-прешер и без него получилось действительно разным согласно критерию Манна-Уитни, принимаем гипотезу H2"
      ]
    },
    {
      "cell_type": "code",
      "metadata": {
        "id": "pd_jYaQX6KNx",
        "colab": {
          "base_uri": "https://localhost:8080/",
          "height": 34
        },
        "outputId": "2947d18b-c69f-4790-f478-1733e8b0b85d"
      },
      "source": [
        "data_bad_ing.shape[0] + data_bad_ing_no.shape[0] == data.shape[0]"
      ],
      "execution_count": null,
      "outputs": [
        {
          "output_type": "execute_result",
          "data": {
            "text/plain": [
              "True"
            ]
          },
          "metadata": {
            "tags": []
          },
          "execution_count": 77
        }
      ]
    },
    {
      "cell_type": "markdown",
      "metadata": {
        "id": "Bq20ZTNL9Iz3"
      },
      "source": [
        "Видим, что не упустили ни одного респондента"
      ]
    }
  ]
}