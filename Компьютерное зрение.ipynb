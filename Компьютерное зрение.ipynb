{
  "nbformat": 4,
  "nbformat_minor": 0,
  "metadata": {
    "accelerator": "GPU",
    "colab": {
      "name": "Maslova_Sofia_hw3.ipynb",
      "provenance": []
    },
    "kernelspec": {
      "display_name": "Python 3",
      "language": "python",
      "name": "python3"
    },
    "language_info": {
      "codemirror_mode": {
        "name": "ipython",
        "version": 3
      },
      "file_extension": ".py",
      "mimetype": "text/x-python",
      "name": "python",
      "nbconvert_exporter": "python",
      "pygments_lexer": "ipython3",
      "version": "3.7.3"
    }
  },
  "cells": [
    {
      "cell_type": "markdown",
      "metadata": {
        "colab_type": "text",
        "id": "gO2BchskQWoH"
      },
      "source": [
        "# Домашнее задание 3.\n",
        "\n",
        "`Keras` и сверточные нейронные сети."
      ]
    },
    {
      "cell_type": "code",
      "metadata": {
        "colab_type": "code",
        "id": "WmIuIaLEATMn",
        "outputId": "1a837c21-bea8-4412-fc59-dbb9627c2e40",
        "colab": {
          "base_uri": "https://localhost:8080/",
          "height": 117
        }
      },
      "source": [
        "import tensorflow as tf\n",
        "import keras\n",
        "from keras import backend as K\n",
        "import numpy as np\n",
        "%matplotlib inline\n",
        "import matplotlib.pyplot as plt\n",
        "print(tf.__version__)\n",
        "print(keras.__version__)"
      ],
      "execution_count": 1,
      "outputs": [
        {
          "output_type": "display_data",
          "data": {
            "text/html": [
              "<p style=\"color: red;\">\n",
              "The default version of TensorFlow in Colab will soon switch to TensorFlow 2.x.<br>\n",
              "We recommend you <a href=\"https://www.tensorflow.org/guide/migrate\" target=\"_blank\">upgrade</a> now \n",
              "or ensure your notebook will continue to use TensorFlow 1.x via the <code>%tensorflow_version 1.x</code> magic:\n",
              "<a href=\"https://colab.research.google.com/notebooks/tensorflow_version.ipynb\" target=\"_blank\">more info</a>.</p>\n"
            ],
            "text/plain": [
              "<IPython.core.display.HTML object>"
            ]
          },
          "metadata": {
            "tags": []
          }
        },
        {
          "output_type": "stream",
          "text": [
            "1.15.0\n",
            "2.2.5\n"
          ],
          "name": "stdout"
        },
        {
          "output_type": "stream",
          "text": [
            "Using TensorFlow backend.\n"
          ],
          "name": "stderr"
        }
      ]
    },
    {
      "cell_type": "code",
      "metadata": {
        "colab_type": "code",
        "id": "efsrp4vQfls5",
        "colab": {}
      },
      "source": [
        "def reset_tf_session():\n",
        "    curr_session = tf.get_default_session()\n",
        "    if curr_session is not None:\n",
        "        curr_session.close()\n",
        "    K.clear_session()\n",
        "    config = tf.ConfigProto()\n",
        "    config.gpu_options.allow_growth = True\n",
        "    s = tf.InteractiveSession(config=config)\n",
        "    K.set_session(s)\n",
        "    return s"
      ],
      "execution_count": 0,
      "outputs": []
    },
    {
      "cell_type": "markdown",
      "metadata": {
        "colab_type": "text",
        "id": "HE_SpMQMQm8Y"
      },
      "source": [
        "## Задание 1 — инициализация весов CNN (3 балла).\n",
        "\n",
        "В этом задании нужно будет исследовать, как выбор функции инициализации весов влияет на обучение CNN.\n"
      ]
    },
    {
      "cell_type": "markdown",
      "metadata": {
        "colab_type": "text",
        "id": "oIoAOXkJSwbs"
      },
      "source": [
        "Продолжим работать с датасетом CIFAR-10."
      ]
    },
    {
      "cell_type": "code",
      "metadata": {
        "colab_type": "code",
        "id": "IsuA4kiHA4ff",
        "outputId": "80b5d52b-9b22-40a6-8c93-1612ddd6337d",
        "colab": {
          "base_uri": "https://localhost:8080/",
          "height": 88
        }
      },
      "source": [
        "from keras.datasets import cifar10\n",
        "(x_train, y_train), (x_test, y_test) = cifar10.load_data()\n",
        "\n",
        "NUM_CLASSES = 10\n",
        "cifar10_classes = [\"airplane\", \"automobile\", \"bird\", \"cat\", \"deer\", \n",
        "                   \"dog\", \"frog\", \"horse\", \"ship\", \"truck\"]\n",
        "\n",
        "print(\"Train samples:\", x_train.shape, y_train.shape)\n",
        "print(\"Test samples:\", x_test.shape, y_test.shape)\n",
        "\n",
        "# нормализуем входные данные\n",
        "x_train = x_train / 255 - 0.5\n",
        "x_test = x_test / 255 - 0.5\n",
        "\n",
        "y_train = keras.utils.to_categorical(y_train, 10)\n",
        "y_test = keras.utils.to_categorical(y_test, 10)"
      ],
      "execution_count": 3,
      "outputs": [
        {
          "output_type": "stream",
          "text": [
            "Downloading data from https://www.cs.toronto.edu/~kriz/cifar-10-python.tar.gz\n",
            "170500096/170498071 [==============================] - 2s 0us/step\n",
            "Train samples: (50000, 32, 32, 3) (50000, 1)\n",
            "Test samples: (10000, 32, 32, 3) (10000, 1)\n"
          ],
          "name": "stdout"
        }
      ]
    },
    {
      "cell_type": "code",
      "metadata": {
        "colab_type": "code",
        "id": "xNl2e8LeftcC",
        "colab": {}
      },
      "source": [
        "from keras.models import Sequential\n",
        "from keras.layers import Conv2D, MaxPooling2D, Flatten, Dense, Activation, Dropout\n",
        "from keras.layers.advanced_activations import LeakyReLU\n",
        "from keras.models import load_model"
      ],
      "execution_count": 0,
      "outputs": []
    },
    {
      "cell_type": "markdown",
      "metadata": {
        "colab_type": "text",
        "id": "f2vQIUE3UeiE"
      },
      "source": [
        "Определим функцию `fit_model` с архитектурой архитектура CNN.\n",
        "\n",
        "Метод `model.fit` возвращает объект класса `keras.callbacks.History()` — это колбэк, который автоматически применяется ко всем моделям и логирует много чего полезного. В частности логируются значения функции потерь на каждой итерации."
      ]
    },
    {
      "cell_type": "markdown",
      "metadata": {
        "colab_type": "text",
        "id": "dDslR6vNZry8"
      },
      "source": [
        "**Задание 1.1** (0.5 балла) Добавьте в архитектуру модели инициализацию весов для тех слоев, где она необходима.\n"
      ]
    },
    {
      "cell_type": "code",
      "metadata": {
        "colab_type": "code",
        "id": "2_Lu7SO3CMid",
        "colab": {}
      },
      "source": [
        "def fit_model(initializer='glorot_normal'):\n",
        "    s = reset_tf_session()  \n",
        "    INIT_LR = 5e-3\n",
        "    BATCH_SIZE = 32\n",
        "    EPOCHS = 10\n",
        "   \n",
        "    def lr_scheduler(epoch):\n",
        "        return INIT_LR * 0.9 ** epoch  \n",
        "\n",
        "    model = Sequential()\n",
        "    model.add(Conv2D(filters=16, padding='same', kernel_size=(3,3), input_shape=(32,32,3), init=initializer)) # добавили иницализацию весов здесь\n",
        "    model.add(LeakyReLU(0.1))\n",
        "    model.add(Conv2D(filters=64, padding='same', kernel_size=(3,3), init=initializer))  # и здесь\n",
        "    model.add(LeakyReLU(0.1))\n",
        "    model.add(MaxPooling2D(pool_size=(2,2), padding='same'))\n",
        "    model.add(Dropout(0.25))\n",
        "    model.add(Flatten())\n",
        "    model.add(Dense(40, init=initializer)) # а еще здесь\n",
        "    model.add(LeakyReLU(0.1))\n",
        "    model.add(Dropout(0.5))    \n",
        "    model.add(Dense(10, init=initializer)) # и здесь\n",
        "    model.add(Activation(\"softmax\"))\n",
        "\n",
        "\n",
        "    model.compile(\n",
        "        loss='categorical_crossentropy',\n",
        "        optimizer=keras.optimizers.adamax(lr=INIT_LR),\n",
        "        metrics=['accuracy']\n",
        "    )\n",
        "  \n",
        "    history = model.fit(\n",
        "        x_train, y_train,\n",
        "        batch_size=BATCH_SIZE,\n",
        "        epochs=EPOCHS,\n",
        "        callbacks=[keras.callbacks.LearningRateScheduler(lr_scheduler)],                   \n",
        "        shuffle=True,\n",
        "        verbose=0,\n",
        "        initial_epoch=0    \n",
        "    )\n",
        "\n",
        "    # Возвращаем объект класса keras.callbacks.History\n",
        "    return history"
      ],
      "execution_count": 0,
      "outputs": []
    },
    {
      "cell_type": "markdown",
      "metadata": {
        "colab_type": "text",
        "id": "bYkZkghfT4uN"
      },
      "source": [
        "**Задание 1.2** (1.5 балла). Обучите модель с разными [функциями инициализации](https://keras.io/initializers/) весов:\n",
        "* `Zeros` — веса инициализируются нулями\n",
        "* `Constant=0.05` — веса инициализируются константой 0.05\n",
        "* `RandomUniform` — веса генерируются равномерно из отрезка [-0.05, 0.05]\n",
        "* `glorot_normal` — Xavier initializer из лекций\n",
        "* `lecun_uniform`\n",
        "\n",
        "Добавьте в список `losses` значения функции потерь для каждой функции инициализации, их можно достать из `History`\n",
        "\n"
      ]
    },
    {
      "cell_type": "code",
      "metadata": {
        "colab_type": "code",
        "id": "dTieYmgUmQ8G",
        "outputId": "8dcd0ac9-21b2-4b39-8d63-b7dabe184d26",
        "colab": {
          "base_uri": "https://localhost:8080/",
          "height": 1000
        }
      },
      "source": [
        "losses = []\n",
        "ini = ['glorot_normal', 'zeros', keras.initializers.Constant(value=0.05), 'random_uniform', 'lecun_uniform']\n",
        "\n",
        "losses.append([fit_model(initializer=i).history['loss'] for i in ini])\n",
        "losses"
      ],
      "execution_count": 6,
      "outputs": [
        {
          "output_type": "stream",
          "text": [
            "WARNING:tensorflow:From /usr/local/lib/python3.6/dist-packages/keras/backend/tensorflow_backend.py:107: The name tf.reset_default_graph is deprecated. Please use tf.compat.v1.reset_default_graph instead.\n",
            "\n",
            "WARNING:tensorflow:From /usr/local/lib/python3.6/dist-packages/keras/backend/tensorflow_backend.py:111: The name tf.placeholder_with_default is deprecated. Please use tf.compat.v1.placeholder_with_default instead.\n",
            "\n",
            "WARNING:tensorflow:From /usr/local/lib/python3.6/dist-packages/keras/backend/tensorflow_backend.py:66: The name tf.get_default_graph is deprecated. Please use tf.compat.v1.get_default_graph instead.\n",
            "\n",
            "WARNING:tensorflow:From /usr/local/lib/python3.6/dist-packages/keras/backend/tensorflow_backend.py:541: The name tf.placeholder is deprecated. Please use tf.compat.v1.placeholder instead.\n",
            "\n",
            "WARNING:tensorflow:From /usr/local/lib/python3.6/dist-packages/keras/backend/tensorflow_backend.py:4479: The name tf.truncated_normal is deprecated. Please use tf.random.truncated_normal instead.\n",
            "\n",
            "WARNING:tensorflow:From /usr/local/lib/python3.6/dist-packages/keras/backend/tensorflow_backend.py:4267: The name tf.nn.max_pool is deprecated. Please use tf.nn.max_pool2d instead.\n",
            "\n",
            "WARNING:tensorflow:From /usr/local/lib/python3.6/dist-packages/keras/backend/tensorflow_backend.py:3733: calling dropout (from tensorflow.python.ops.nn_ops) with keep_prob is deprecated and will be removed in a future version.\n",
            "Instructions for updating:\n",
            "Please use `rate` instead of `keep_prob`. Rate should be set to `rate = 1 - keep_prob`.\n",
            "WARNING:tensorflow:From /usr/local/lib/python3.6/dist-packages/keras/optimizers.py:793: The name tf.train.Optimizer is deprecated. Please use tf.compat.v1.train.Optimizer instead.\n",
            "\n",
            "WARNING:tensorflow:From /usr/local/lib/python3.6/dist-packages/keras/backend/tensorflow_backend.py:3576: The name tf.log is deprecated. Please use tf.math.log instead.\n",
            "\n"
          ],
          "name": "stdout"
        },
        {
          "output_type": "stream",
          "text": [
            "/usr/local/lib/python3.6/dist-packages/ipykernel_launcher.py:11: UserWarning: Update your `Conv2D` call to the Keras 2 API: `Conv2D(filters=16, padding=\"same\", kernel_size=(3, 3), input_shape=(32, 32, 3..., kernel_initializer=\"glorot_normal\")`\n",
            "  # This is added back by InteractiveShellApp.init_path()\n",
            "/usr/local/lib/python3.6/dist-packages/ipykernel_launcher.py:13: UserWarning: Update your `Conv2D` call to the Keras 2 API: `Conv2D(filters=64, padding=\"same\", kernel_size=(3, 3), kernel_initializer=\"glorot_normal\")`\n",
            "  del sys.path[0]\n",
            "/usr/local/lib/python3.6/dist-packages/ipykernel_launcher.py:18: UserWarning: Update your `Dense` call to the Keras 2 API: `Dense(40, kernel_initializer=\"glorot_normal\")`\n",
            "/usr/local/lib/python3.6/dist-packages/ipykernel_launcher.py:21: UserWarning: Update your `Dense` call to the Keras 2 API: `Dense(10, kernel_initializer=\"glorot_normal\")`\n"
          ],
          "name": "stderr"
        },
        {
          "output_type": "stream",
          "text": [
            "WARNING:tensorflow:From /usr/local/lib/python3.6/dist-packages/tensorflow_core/python/ops/math_grad.py:1424: where (from tensorflow.python.ops.array_ops) is deprecated and will be removed in a future version.\n",
            "Instructions for updating:\n",
            "Use tf.where in 2.0, which has the same broadcast rule as np.where\n",
            "WARNING:tensorflow:From /usr/local/lib/python3.6/dist-packages/keras/backend/tensorflow_backend.py:1033: The name tf.assign_add is deprecated. Please use tf.compat.v1.assign_add instead.\n",
            "\n",
            "WARNING:tensorflow:From /usr/local/lib/python3.6/dist-packages/keras/backend/tensorflow_backend.py:1020: The name tf.assign is deprecated. Please use tf.compat.v1.assign instead.\n",
            "\n",
            "WARNING:tensorflow:From /usr/local/lib/python3.6/dist-packages/keras/backend/tensorflow_backend.py:3005: The name tf.Session is deprecated. Please use tf.compat.v1.Session instead.\n",
            "\n",
            "WARNING:tensorflow:From /usr/local/lib/python3.6/dist-packages/keras/backend/tensorflow_backend.py:207: The name tf.global_variables is deprecated. Please use tf.compat.v1.global_variables instead.\n",
            "\n",
            "WARNING:tensorflow:From /usr/local/lib/python3.6/dist-packages/keras/backend/tensorflow_backend.py:216: The name tf.is_variable_initialized is deprecated. Please use tf.compat.v1.is_variable_initialized instead.\n",
            "\n",
            "WARNING:tensorflow:From /usr/local/lib/python3.6/dist-packages/keras/backend/tensorflow_backend.py:223: The name tf.variables_initializer is deprecated. Please use tf.compat.v1.variables_initializer instead.\n",
            "\n"
          ],
          "name": "stdout"
        },
        {
          "output_type": "stream",
          "text": [
            "/usr/local/lib/python3.6/dist-packages/ipykernel_launcher.py:11: UserWarning: Update your `Conv2D` call to the Keras 2 API: `Conv2D(filters=16, padding=\"same\", kernel_size=(3, 3), input_shape=(32, 32, 3..., kernel_initializer=\"zeros\")`\n",
            "  # This is added back by InteractiveShellApp.init_path()\n",
            "/usr/local/lib/python3.6/dist-packages/ipykernel_launcher.py:13: UserWarning: Update your `Conv2D` call to the Keras 2 API: `Conv2D(filters=64, padding=\"same\", kernel_size=(3, 3), kernel_initializer=\"zeros\")`\n",
            "  del sys.path[0]\n",
            "/usr/local/lib/python3.6/dist-packages/ipykernel_launcher.py:18: UserWarning: Update your `Dense` call to the Keras 2 API: `Dense(40, kernel_initializer=\"zeros\")`\n",
            "/usr/local/lib/python3.6/dist-packages/ipykernel_launcher.py:21: UserWarning: Update your `Dense` call to the Keras 2 API: `Dense(10, kernel_initializer=\"zeros\")`\n",
            "/usr/local/lib/python3.6/dist-packages/ipykernel_launcher.py:11: UserWarning: Update your `Conv2D` call to the Keras 2 API: `Conv2D(filters=16, padding=\"same\", kernel_size=(3, 3), input_shape=(32, 32, 3..., kernel_initializer=<keras.ini...)`\n",
            "  # This is added back by InteractiveShellApp.init_path()\n",
            "/usr/local/lib/python3.6/dist-packages/ipykernel_launcher.py:13: UserWarning: Update your `Conv2D` call to the Keras 2 API: `Conv2D(filters=64, padding=\"same\", kernel_size=(3, 3), kernel_initializer=<keras.ini...)`\n",
            "  del sys.path[0]\n",
            "/usr/local/lib/python3.6/dist-packages/ipykernel_launcher.py:18: UserWarning: Update your `Dense` call to the Keras 2 API: `Dense(40, kernel_initializer=<keras.ini...)`\n",
            "/usr/local/lib/python3.6/dist-packages/ipykernel_launcher.py:21: UserWarning: Update your `Dense` call to the Keras 2 API: `Dense(10, kernel_initializer=<keras.ini...)`\n"
          ],
          "name": "stderr"
        },
        {
          "output_type": "stream",
          "text": [
            "WARNING:tensorflow:From /usr/local/lib/python3.6/dist-packages/keras/backend/tensorflow_backend.py:4432: The name tf.random_uniform is deprecated. Please use tf.random.uniform instead.\n",
            "\n"
          ],
          "name": "stdout"
        },
        {
          "output_type": "stream",
          "text": [
            "/usr/local/lib/python3.6/dist-packages/ipykernel_launcher.py:11: UserWarning: Update your `Conv2D` call to the Keras 2 API: `Conv2D(filters=16, padding=\"same\", kernel_size=(3, 3), input_shape=(32, 32, 3..., kernel_initializer=\"random_uniform\")`\n",
            "  # This is added back by InteractiveShellApp.init_path()\n",
            "/usr/local/lib/python3.6/dist-packages/ipykernel_launcher.py:13: UserWarning: Update your `Conv2D` call to the Keras 2 API: `Conv2D(filters=64, padding=\"same\", kernel_size=(3, 3), kernel_initializer=\"random_uniform\")`\n",
            "  del sys.path[0]\n",
            "/usr/local/lib/python3.6/dist-packages/ipykernel_launcher.py:18: UserWarning: Update your `Dense` call to the Keras 2 API: `Dense(40, kernel_initializer=\"random_uniform\")`\n",
            "/usr/local/lib/python3.6/dist-packages/ipykernel_launcher.py:21: UserWarning: Update your `Dense` call to the Keras 2 API: `Dense(10, kernel_initializer=\"random_uniform\")`\n",
            "/usr/local/lib/python3.6/dist-packages/ipykernel_launcher.py:11: UserWarning: Update your `Conv2D` call to the Keras 2 API: `Conv2D(filters=16, padding=\"same\", kernel_size=(3, 3), input_shape=(32, 32, 3..., kernel_initializer=\"lecun_uniform\")`\n",
            "  # This is added back by InteractiveShellApp.init_path()\n",
            "/usr/local/lib/python3.6/dist-packages/ipykernel_launcher.py:13: UserWarning: Update your `Conv2D` call to the Keras 2 API: `Conv2D(filters=64, padding=\"same\", kernel_size=(3, 3), kernel_initializer=\"lecun_uniform\")`\n",
            "  del sys.path[0]\n",
            "/usr/local/lib/python3.6/dist-packages/ipykernel_launcher.py:18: UserWarning: Update your `Dense` call to the Keras 2 API: `Dense(40, kernel_initializer=\"lecun_uniform\")`\n",
            "/usr/local/lib/python3.6/dist-packages/ipykernel_launcher.py:21: UserWarning: Update your `Dense` call to the Keras 2 API: `Dense(10, kernel_initializer=\"lecun_uniform\")`\n"
          ],
          "name": "stderr"
        },
        {
          "output_type": "execute_result",
          "data": {
            "text/plain": [
              "[[[1.4927609439849854,\n",
              "   1.1803360075759888,\n",
              "   1.0658960352516174,\n",
              "   0.9942033225440979,\n",
              "   0.9384321302032471,\n",
              "   0.8920300806045532,\n",
              "   0.8516941950035095,\n",
              "   0.813574034538269,\n",
              "   0.7834670532798768,\n",
              "   0.7553397636699677],\n",
              "  [2.3029067127990723,\n",
              "   2.302841442565918,\n",
              "   2.302835273361206,\n",
              "   2.30282397857666,\n",
              "   2.302801638031006,\n",
              "   2.302799586791992,\n",
              "   2.30273764465332,\n",
              "   2.3027309446716306,\n",
              "   2.3027036161804197,\n",
              "   2.30273495552063],\n",
              "  [2.3724254260253907,\n",
              "   2.0056744282531738,\n",
              "   1.7685615072250367,\n",
              "   1.6272051699066161,\n",
              "   1.5197091971969605,\n",
              "   1.4419218523025512,\n",
              "   1.3828282614135743,\n",
              "   1.3406158241653443,\n",
              "   1.2954468786239624,\n",
              "   1.261221920776367],\n",
              "  [1.6049939125823975,\n",
              "   1.3059864088821411,\n",
              "   1.1711389640045167,\n",
              "   1.0849368831825257,\n",
              "   1.0227625375556946,\n",
              "   0.9785696961402893,\n",
              "   0.9338352185058594,\n",
              "   0.9008535656547546,\n",
              "   0.8720610445785523,\n",
              "   0.8439824709701538],\n",
              "  [1.5025777950668335,\n",
              "   1.1781153899002075,\n",
              "   1.0716263907623291,\n",
              "   0.997414151096344,\n",
              "   0.9282905760955811,\n",
              "   0.8725581176185608,\n",
              "   0.8274326382827759,\n",
              "   0.7906038290214539,\n",
              "   0.759965395078659,\n",
              "   0.7266933444786072]]]"
            ]
          },
          "metadata": {
            "tags": []
          },
          "execution_count": 6
        }
      ]
    },
    {
      "cell_type": "markdown",
      "metadata": {
        "colab_type": "text",
        "id": "wsk8bCEPcOav"
      },
      "source": [
        "**Задание 1.3** (1 балла). Постройте графики зависимости функций потерь от номера итерации, подпишите их. Прокомментируйте результат."
      ]
    },
    {
      "cell_type": "code",
      "metadata": {
        "colab_type": "code",
        "id": "3yqBZIYEAPWZ",
        "outputId": "9b4ca5a4-f645-438b-e912-86a28ba6ba15",
        "colab": {
          "base_uri": "https://localhost:8080/",
          "height": 624
        }
      },
      "source": [
        "fig = plt.figure(0, (10,10))\n",
        "ini = ['glorot_normal', 'zeros', 'constant', 'random_uniform', 'lecun_uniform']\n",
        "for i in range(5) :\n",
        "    plt.plot(range(1, 11), losses[0][i], label = '%s' % ini[i])\n",
        "\n",
        "plt.xlabel('Номер итерации')\n",
        "plt.ylabel('Loss')\n",
        "plt.legend()"
      ],
      "execution_count": 7,
      "outputs": [
        {
          "output_type": "execute_result",
          "data": {
            "text/plain": [
              "<matplotlib.legend.Legend at 0x7fbe67a76d30>"
            ]
          },
          "metadata": {
            "tags": []
          },
          "execution_count": 7
        },
        {
          "output_type": "display_data",
          "data": {
            "image/png": "[encoded data removed]",
            "text/plain": [
              "<Figure size 720x720 with 1 Axes>"
            ]
          },
          "metadata": {
            "tags": []
          }
        }
      ]
    },
    {
      "cell_type": "markdown",
      "metadata": {
        "colab_type": "text",
        "id": "nellCcusBAZ8"
      },
      "source": [
        "## Задание 2 — CNN для CIFAR-10 с сохранением весов модели (7 баллов)\n",
        "\n",
        "В этом задании мы модифицируем нейросеть с семинара, чтобы она достигала большего значения `accuracy` и научимся сохранять веса модели в файл во время обучения. Можно использовать только те же слои, которые использовались на семинаре: `Conv2D, MaxPooling2D,  LeakyReLU, Dropout, Flatten, Dense`."
      ]
    },
    {
      "cell_type": "markdown",
      "metadata": {
        "colab_type": "text",
        "id": "xuVF3c2qJwyx"
      },
      "source": [
        "**Задание 2.1** (4 балла). Подберите архитектуру модели так, чтобы значение `accuracy` на тестовой выборке было не менее 85."
      ]
    },
    {
      "cell_type": "code",
      "metadata": {
        "colab_type": "code",
        "id": "syKDJPUdCtoI",
        "colab": {}
      },
      "source": [
        "def make_model(): \n",
        "    model = Sequential()\n",
        "    model.add(Conv2D(filters=64, padding='same', kernel_size=(3,3), input_shape=(32,32,3), init='lecun_uniform'))\n",
        "    model.add(LeakyReLU(0.1))\n",
        "    model.add(Conv2D(filters=64, padding='same', kernel_size=(3,3), init='lecun_uniform'))\n",
        "    model.add(LeakyReLU(0.1))\n",
        "    model.add(MaxPooling2D(pool_size=(2,2), padding='same'))\n",
        "    model.add(Dropout(0.25))\n",
        "    model.add(Conv2D(filters=128, padding='same', kernel_size=(3,3), init='lecun_uniform'))\n",
        "    model.add(LeakyReLU(0.1))\n",
        "    model.add(Conv2D(filters=128, padding='same', kernel_size=(3,3), init='lecun_uniform'))  \n",
        "    model.add(LeakyReLU(0.1))\n",
        "    model.add(MaxPooling2D(pool_size=(2,2), padding='same'))\n",
        "    model.add(Dropout(0.25))\n",
        "    model.add(Conv2D(filters=64, padding='same', kernel_size=(3,3), init='lecun_uniform'))\n",
        "    model.add(LeakyReLU(0.1))\n",
        "    model.add(Conv2D(filters=64, padding='same', kernel_size=(3,3), init='lecun_uniform'))\n",
        "    model.add(LeakyReLU(0.1))\n",
        "    model.add(MaxPooling2D(pool_size=(2,2), padding='same'))\n",
        "    model.add(Dropout(0.25))\n",
        "    model.add(Conv2D(filters=128, padding='same', kernel_size=(3,3), init='lecun_uniform'))\n",
        "    model.add(LeakyReLU(0.1))\n",
        "    model.add(Conv2D(filters=128, padding='same', kernel_size=(3,3), init='lecun_uniform'))  \n",
        "    model.add(LeakyReLU(0.1))\n",
        "    model.add(MaxPooling2D(pool_size=(2,2), padding='same'))\n",
        "    model.add(Dropout(0.25))\n",
        "    model.add(Conv2D(filters=64, padding='same', kernel_size=(3,3), init='lecun_uniform'))\n",
        "    model.add(LeakyReLU(0.1))\n",
        "    model.add(Conv2D(filters=64, padding='same', kernel_size=(3,3), init='lecun_uniform'))  \n",
        "    model.add(LeakyReLU(0.1))\n",
        "    model.add(MaxPooling2D(pool_size=(2,2), padding='same')) \n",
        "    model.add(Dropout(0.25))\n",
        "    model.add(Conv2D(filters=128, padding='same', kernel_size=(3,3), init='lecun_uniform'))\n",
        "    model.add(LeakyReLU(0.1))\n",
        "    model.add(Conv2D(filters=128, padding='same', kernel_size=(3,3), init='lecun_uniform'))  \n",
        "    model.add(LeakyReLU(0.1))\n",
        "    model.add(MaxPooling2D(pool_size=(2,2), padding='same')) \n",
        "    model.add(Dropout(0.25)) \n",
        "    model.add(Flatten())\n",
        "    model.add(Dense(512, init='lecun_uniform'))\n",
        "    model.add(LeakyReLU(0.1))\n",
        "    model.add(Dropout(0.5))    \n",
        "    model.add(Dense(10, init='lecun_uniform'))             \n",
        "    model.add(Activation(\"softmax\"))\n",
        "    \n",
        "    return model"
      ],
      "execution_count": 0,
      "outputs": []
    },
    {
      "cell_type": "code",
      "metadata": {
        "colab_type": "code",
        "id": "MoZifjkgFdcg",
        "outputId": "13327575-5705-4627-80f9-269e5f327bc8",
        "colab": {
          "base_uri": "https://localhost:8080/",
          "height": 1000
        }
      },
      "source": [
        "s = reset_tf_session()\n",
        "model = make_model()\n",
        "model.summary()"
      ],
      "execution_count": 9,
      "outputs": [
        {
          "output_type": "stream",
          "text": [
            "/usr/local/lib/python3.6/dist-packages/ipykernel_launcher.py:3: UserWarning: Update your `Conv2D` call to the Keras 2 API: `Conv2D(filters=64, padding=\"same\", kernel_size=(3, 3), input_shape=(32, 32, 3..., kernel_initializer=\"lecun_uniform\")`\n",
            "  This is separate from the ipykernel package so we can avoid doing imports until\n",
            "/usr/local/lib/python3.6/dist-packages/ipykernel_launcher.py:5: UserWarning: Update your `Conv2D` call to the Keras 2 API: `Conv2D(filters=64, padding=\"same\", kernel_size=(3, 3), kernel_initializer=\"lecun_uniform\")`\n",
            "  \"\"\"\n",
            "/usr/local/lib/python3.6/dist-packages/ipykernel_launcher.py:9: UserWarning: Update your `Conv2D` call to the Keras 2 API: `Conv2D(filters=128, padding=\"same\", kernel_size=(3, 3), kernel_initializer=\"lecun_uniform\")`\n",
            "  if __name__ == '__main__':\n",
            "/usr/local/lib/python3.6/dist-packages/ipykernel_launcher.py:11: UserWarning: Update your `Conv2D` call to the Keras 2 API: `Conv2D(filters=128, padding=\"same\", kernel_size=(3, 3), kernel_initializer=\"lecun_uniform\")`\n",
            "  # This is added back by InteractiveShellApp.init_path()\n",
            "/usr/local/lib/python3.6/dist-packages/ipykernel_launcher.py:15: UserWarning: Update your `Conv2D` call to the Keras 2 API: `Conv2D(filters=64, padding=\"same\", kernel_size=(3, 3), kernel_initializer=\"lecun_uniform\")`\n",
            "  from ipykernel import kernelapp as app\n",
            "/usr/local/lib/python3.6/dist-packages/ipykernel_launcher.py:17: UserWarning: Update your `Conv2D` call to the Keras 2 API: `Conv2D(filters=64, padding=\"same\", kernel_size=(3, 3), kernel_initializer=\"lecun_uniform\")`\n",
            "/usr/local/lib/python3.6/dist-packages/ipykernel_launcher.py:21: UserWarning: Update your `Conv2D` call to the Keras 2 API: `Conv2D(filters=128, padding=\"same\", kernel_size=(3, 3), kernel_initializer=\"lecun_uniform\")`\n",
            "/usr/local/lib/python3.6/dist-packages/ipykernel_launcher.py:23: UserWarning: Update your `Conv2D` call to the Keras 2 API: `Conv2D(filters=128, padding=\"same\", kernel_size=(3, 3), kernel_initializer=\"lecun_uniform\")`\n",
            "/usr/local/lib/python3.6/dist-packages/ipykernel_launcher.py:27: UserWarning: Update your `Conv2D` call to the Keras 2 API: `Conv2D(filters=64, padding=\"same\", kernel_size=(3, 3), kernel_initializer=\"lecun_uniform\")`\n",
            "/usr/local/lib/python3.6/dist-packages/ipykernel_launcher.py:29: UserWarning: Update your `Conv2D` call to the Keras 2 API: `Conv2D(filters=64, padding=\"same\", kernel_size=(3, 3), kernel_initializer=\"lecun_uniform\")`\n",
            "/usr/local/lib/python3.6/dist-packages/ipykernel_launcher.py:33: UserWarning: Update your `Conv2D` call to the Keras 2 API: `Conv2D(filters=128, padding=\"same\", kernel_size=(3, 3), kernel_initializer=\"lecun_uniform\")`\n",
            "/usr/local/lib/python3.6/dist-packages/ipykernel_launcher.py:35: UserWarning: Update your `Conv2D` call to the Keras 2 API: `Conv2D(filters=128, padding=\"same\", kernel_size=(3, 3), kernel_initializer=\"lecun_uniform\")`\n",
            "/usr/local/lib/python3.6/dist-packages/ipykernel_launcher.py:40: UserWarning: Update your `Dense` call to the Keras 2 API: `Dense(512, kernel_initializer=\"lecun_uniform\")`\n",
            "/usr/local/lib/python3.6/dist-packages/ipykernel_launcher.py:43: UserWarning: Update your `Dense` call to the Keras 2 API: `Dense(10, kernel_initializer=\"lecun_uniform\")`\n"
          ],
          "name": "stderr"
        },
        {
          "output_type": "stream",
          "text": [
            "Model: \"sequential_1\"\n",
            "_________________________________________________________________\n",
            "Layer (type)                 Output Shape              Param #   \n",
            "=================================================================\n",
            "conv2d_1 (Conv2D)            (None, 32, 32, 64)        1792      \n",
            "_________________________________________________________________\n",
            "leaky_re_lu_1 (LeakyReLU)    (None, 32, 32, 64)        0         \n",
            "_________________________________________________________________\n",
            "conv2d_2 (Conv2D)            (None, 32, 32, 64)        36928     \n",
            "_________________________________________________________________\n",
            "leaky_re_lu_2 (LeakyReLU)    (None, 32, 32, 64)        0         \n",
            "_________________________________________________________________\n",
            "max_pooling2d_1 (MaxPooling2 (None, 16, 16, 64)        0         \n",
            "_________________________________________________________________\n",
            "dropout_1 (Dropout)          (None, 16, 16, 64)        0         \n",
            "_________________________________________________________________\n",
            "conv2d_3 (Conv2D)            (None, 16, 16, 128)       73856     \n",
            "_________________________________________________________________\n",
            "leaky_re_lu_3 (LeakyReLU)    (None, 16, 16, 128)       0         \n",
            "_________________________________________________________________\n",
            "conv2d_4 (Conv2D)            (None, 16, 16, 128)       147584    \n",
            "_________________________________________________________________\n",
            "leaky_re_lu_4 (LeakyReLU)    (None, 16, 16, 128)       0         \n",
            "_________________________________________________________________\n",
            "max_pooling2d_2 (MaxPooling2 (None, 8, 8, 128)         0         \n",
            "_________________________________________________________________\n",
            "dropout_2 (Dropout)          (None, 8, 8, 128)         0         \n",
            "_________________________________________________________________\n",
            "conv2d_5 (Conv2D)            (None, 8, 8, 64)          73792     \n",
            "_________________________________________________________________\n",
            "leaky_re_lu_5 (LeakyReLU)    (None, 8, 8, 64)          0         \n",
            "_________________________________________________________________\n",
            "conv2d_6 (Conv2D)            (None, 8, 8, 64)          36928     \n",
            "_________________________________________________________________\n",
            "leaky_re_lu_6 (LeakyReLU)    (None, 8, 8, 64)          0         \n",
            "_________________________________________________________________\n",
            "max_pooling2d_3 (MaxPooling2 (None, 4, 4, 64)          0         \n",
            "_________________________________________________________________\n",
            "dropout_3 (Dropout)          (None, 4, 4, 64)          0         \n",
            "_________________________________________________________________\n",
            "conv2d_7 (Conv2D)            (None, 4, 4, 128)         73856     \n",
            "_________________________________________________________________\n",
            "leaky_re_lu_7 (LeakyReLU)    (None, 4, 4, 128)         0         \n",
            "_________________________________________________________________\n",
            "conv2d_8 (Conv2D)            (None, 4, 4, 128)         147584    \n",
            "_________________________________________________________________\n",
            "leaky_re_lu_8 (LeakyReLU)    (None, 4, 4, 128)         0         \n",
            "_________________________________________________________________\n",
            "max_pooling2d_4 (MaxPooling2 (None, 2, 2, 128)         0         \n",
            "_________________________________________________________________\n",
            "dropout_4 (Dropout)          (None, 2, 2, 128)         0         \n",
            "_________________________________________________________________\n",
            "conv2d_9 (Conv2D)            (None, 2, 2, 64)          73792     \n",
            "_________________________________________________________________\n",
            "leaky_re_lu_9 (LeakyReLU)    (None, 2, 2, 64)          0         \n",
            "_________________________________________________________________\n",
            "conv2d_10 (Conv2D)           (None, 2, 2, 64)          36928     \n",
            "_________________________________________________________________\n",
            "leaky_re_lu_10 (LeakyReLU)   (None, 2, 2, 64)          0         \n",
            "_________________________________________________________________\n",
            "max_pooling2d_5 (MaxPooling2 (None, 1, 1, 64)          0         \n",
            "_________________________________________________________________\n",
            "dropout_5 (Dropout)          (None, 1, 1, 64)          0         \n",
            "_________________________________________________________________\n",
            "conv2d_11 (Conv2D)           (None, 1, 1, 128)         73856     \n",
            "_________________________________________________________________\n",
            "leaky_re_lu_11 (LeakyReLU)   (None, 1, 1, 128)         0         \n",
            "_________________________________________________________________\n",
            "conv2d_12 (Conv2D)           (None, 1, 1, 128)         147584    \n",
            "_________________________________________________________________\n",
            "leaky_re_lu_12 (LeakyReLU)   (None, 1, 1, 128)         0         \n",
            "_________________________________________________________________\n",
            "max_pooling2d_6 (MaxPooling2 (None, 1, 1, 128)         0         \n",
            "_________________________________________________________________\n",
            "dropout_6 (Dropout)          (None, 1, 1, 128)         0         \n",
            "_________________________________________________________________\n",
            "flatten_1 (Flatten)          (None, 128)               0         \n",
            "_________________________________________________________________\n",
            "dense_1 (Dense)              (None, 512)               66048     \n",
            "_________________________________________________________________\n",
            "leaky_re_lu_13 (LeakyReLU)   (None, 512)               0         \n",
            "_________________________________________________________________\n",
            "dropout_7 (Dropout)          (None, 512)               0         \n",
            "_________________________________________________________________\n",
            "dense_2 (Dense)              (None, 10)                5130      \n",
            "_________________________________________________________________\n",
            "activation_1 (Activation)    (None, 10)                0         \n",
            "=================================================================\n",
            "Total params: 995,658\n",
            "Trainable params: 995,658\n",
            "Non-trainable params: 0\n",
            "_________________________________________________________________\n"
          ],
          "name": "stdout"
        }
      ]
    },
    {
      "cell_type": "code",
      "metadata": {
        "id": "bE_cE5H0_CQI",
        "colab_type": "code",
        "colab": {}
      },
      "source": [
        "\n",
        "def fit_model(INIT_LR=5e-3, BATCH_SIZE=32, epoch=20):\n",
        " \n",
        "    s = reset_tf_session()  \n",
        " \n",
        "    def lr_scheduler(epoch):\n",
        "        return INIT_LR * 0.9 ** epoch  \n",
        "\n",
        "    model = make_model()\n",
        "    \n",
        "    model.compile(\n",
        "        loss='categorical_crossentropy',\n",
        "        optimizer=keras.optimizers.adamax(lr=INIT_LR),\n",
        "        metrics=['accuracy']\n",
        "    )\n",
        "  \n",
        "    class LrHistory(keras.callbacks.Callback):\n",
        "\n",
        "      def on_epoch_begin(self, epoch, logs={}):\n",
        "        print(\"Learning_rate:\", K.get_value(model.optimizer.lr))\n",
        "\n",
        "    history = model.fit(\n",
        "        x_train, y_train,\n",
        "        batch_size=BATCH_SIZE,\n",
        "        epochs=epoch,\n",
        "        callbacks=[keras.callbacks.LearningRateScheduler(lr_scheduler),\n",
        "                   LrHistory(),],\n",
        "        validation_data=(x_test, y_test),                   \n",
        "        shuffle=True,\n",
        "        verbose=1,\n",
        "        initial_epoch=0    \n",
        "    )\n",
        "\n",
        "    return history"
      ],
      "execution_count": 0,
      "outputs": []
    },
    {
      "cell_type": "code",
      "metadata": {
        "id": "N-FVP-wtApH5",
        "colab_type": "code",
        "outputId": "64d23ff0-c243-43b4-ee95-5b22d762963c",
        "colab": {
          "base_uri": "https://localhost:8080/",
          "height": 1000
        }
      },
      "source": [
        "fit_model()"
      ],
      "execution_count": 11,
      "outputs": [
        {
          "output_type": "stream",
          "text": [
            "/usr/local/lib/python3.6/dist-packages/ipykernel_launcher.py:3: UserWarning: Update your `Conv2D` call to the Keras 2 API: `Conv2D(filters=64, padding=\"same\", kernel_size=(3, 3), input_shape=(32, 32, 3..., kernel_initializer=\"lecun_uniform\")`\n",
            "  This is separate from the ipykernel package so we can avoid doing imports until\n",
            "/usr/local/lib/python3.6/dist-packages/ipykernel_launcher.py:5: UserWarning: Update your `Conv2D` call to the Keras 2 API: `Conv2D(filters=64, padding=\"same\", kernel_size=(3, 3), kernel_initializer=\"lecun_uniform\")`\n",
            "  \"\"\"\n",
            "/usr/local/lib/python3.6/dist-packages/ipykernel_launcher.py:9: UserWarning: Update your `Conv2D` call to the Keras 2 API: `Conv2D(filters=128, padding=\"same\", kernel_size=(3, 3), kernel_initializer=\"lecun_uniform\")`\n",
            "  if __name__ == '__main__':\n",
            "/usr/local/lib/python3.6/dist-packages/ipykernel_launcher.py:11: UserWarning: Update your `Conv2D` call to the Keras 2 API: `Conv2D(filters=128, padding=\"same\", kernel_size=(3, 3), kernel_initializer=\"lecun_uniform\")`\n",
            "  # This is added back by InteractiveShellApp.init_path()\n",
            "/usr/local/lib/python3.6/dist-packages/ipykernel_launcher.py:15: UserWarning: Update your `Conv2D` call to the Keras 2 API: `Conv2D(filters=64, padding=\"same\", kernel_size=(3, 3), kernel_initializer=\"lecun_uniform\")`\n",
            "  from ipykernel import kernelapp as app\n",
            "/usr/local/lib/python3.6/dist-packages/ipykernel_launcher.py:17: UserWarning: Update your `Conv2D` call to the Keras 2 API: `Conv2D(filters=64, padding=\"same\", kernel_size=(3, 3), kernel_initializer=\"lecun_uniform\")`\n",
            "/usr/local/lib/python3.6/dist-packages/ipykernel_launcher.py:21: UserWarning: Update your `Conv2D` call to the Keras 2 API: `Conv2D(filters=128, padding=\"same\", kernel_size=(3, 3), kernel_initializer=\"lecun_uniform\")`\n",
            "/usr/local/lib/python3.6/dist-packages/ipykernel_launcher.py:23: UserWarning: Update your `Conv2D` call to the Keras 2 API: `Conv2D(filters=128, padding=\"same\", kernel_size=(3, 3), kernel_initializer=\"lecun_uniform\")`\n",
            "/usr/local/lib/python3.6/dist-packages/ipykernel_launcher.py:27: UserWarning: Update your `Conv2D` call to the Keras 2 API: `Conv2D(filters=64, padding=\"same\", kernel_size=(3, 3), kernel_initializer=\"lecun_uniform\")`\n",
            "/usr/local/lib/python3.6/dist-packages/ipykernel_launcher.py:29: UserWarning: Update your `Conv2D` call to the Keras 2 API: `Conv2D(filters=64, padding=\"same\", kernel_size=(3, 3), kernel_initializer=\"lecun_uniform\")`\n",
            "/usr/local/lib/python3.6/dist-packages/ipykernel_launcher.py:33: UserWarning: Update your `Conv2D` call to the Keras 2 API: `Conv2D(filters=128, padding=\"same\", kernel_size=(3, 3), kernel_initializer=\"lecun_uniform\")`\n",
            "/usr/local/lib/python3.6/dist-packages/ipykernel_launcher.py:35: UserWarning: Update your `Conv2D` call to the Keras 2 API: `Conv2D(filters=128, padding=\"same\", kernel_size=(3, 3), kernel_initializer=\"lecun_uniform\")`\n",
            "/usr/local/lib/python3.6/dist-packages/ipykernel_launcher.py:40: UserWarning: Update your `Dense` call to the Keras 2 API: `Dense(512, kernel_initializer=\"lecun_uniform\")`\n",
            "/usr/local/lib/python3.6/dist-packages/ipykernel_launcher.py:43: UserWarning: Update your `Dense` call to the Keras 2 API: `Dense(10, kernel_initializer=\"lecun_uniform\")`\n"
          ],
          "name": "stderr"
        },
        {
          "output_type": "stream",
          "text": [
            "Train on 50000 samples, validate on 10000 samples\n",
            "Epoch 1/20\n",
            "Learning_rate: 0.005\n",
            "50000/50000 [==============================] - 64s 1ms/step - loss: 1.8022 - acc: 0.2879 - val_loss: 1.3547 - val_acc: 0.4710\n",
            "Epoch 2/20\n",
            "Learning_rate: 0.0045\n",
            "50000/50000 [==============================] - 62s 1ms/step - loss: 1.2678 - acc: 0.5379 - val_loss: 1.0434 - val_acc: 0.6377\n",
            "Epoch 3/20\n",
            "Learning_rate: 0.00405\n",
            "50000/50000 [==============================] - 62s 1ms/step - loss: 1.0144 - acc: 0.6489 - val_loss: 0.9051 - val_acc: 0.6922\n",
            "Epoch 4/20\n",
            "Learning_rate: 0.003645\n",
            "50000/50000 [==============================] - 62s 1ms/step - loss: 0.8873 - acc: 0.7006 - val_loss: 0.7913 - val_acc: 0.7287\n",
            "Epoch 5/20\n",
            "Learning_rate: 0.0032805\n",
            "50000/50000 [==============================] - 61s 1ms/step - loss: 0.7776 - acc: 0.7421 - val_loss: 0.7192 - val_acc: 0.7594\n",
            "Epoch 6/20\n",
            "Learning_rate: 0.00295245\n",
            "50000/50000 [==============================] - 60s 1ms/step - loss: 0.7031 - acc: 0.7675 - val_loss: 0.6782 - val_acc: 0.7819\n",
            "Epoch 7/20\n",
            "Learning_rate: 0.002657205\n",
            "50000/50000 [==============================] - 59s 1ms/step - loss: 0.6359 - acc: 0.7901 - val_loss: 0.5888 - val_acc: 0.8099\n",
            "Epoch 8/20\n",
            "Learning_rate: 0.0023914846\n",
            "50000/50000 [==============================] - 58s 1ms/step - loss: 0.5766 - acc: 0.8104 - val_loss: 0.5684 - val_acc: 0.8109\n",
            "Epoch 9/20\n",
            "Learning_rate: 0.002152336\n",
            "50000/50000 [==============================] - 58s 1ms/step - loss: 0.5322 - acc: 0.8238 - val_loss: 0.5455 - val_acc: 0.8187\n",
            "Epoch 10/20\n",
            "Learning_rate: 0.0019371024\n",
            "50000/50000 [==============================] - 58s 1ms/step - loss: 0.4886 - acc: 0.8378 - val_loss: 0.5433 - val_acc: 0.8191\n",
            "Epoch 11/20\n",
            "Learning_rate: 0.0017433922\n",
            "50000/50000 [==============================] - 59s 1ms/step - loss: 0.4585 - acc: 0.8484 - val_loss: 0.5407 - val_acc: 0.8279\n",
            "Epoch 12/20\n",
            "Learning_rate: 0.0015690529\n",
            "50000/50000 [==============================] - 58s 1ms/step - loss: 0.4193 - acc: 0.8605 - val_loss: 0.5073 - val_acc: 0.8380\n",
            "Epoch 13/20\n",
            "Learning_rate: 0.0014121477\n",
            "50000/50000 [==============================] - 59s 1ms/step - loss: 0.3894 - acc: 0.8709 - val_loss: 0.4898 - val_acc: 0.8438\n",
            "Epoch 14/20\n",
            "Learning_rate: 0.001270933\n",
            "50000/50000 [==============================] - 58s 1ms/step - loss: 0.3670 - acc: 0.8776 - val_loss: 0.5070 - val_acc: 0.8380\n",
            "Epoch 15/20\n",
            "Learning_rate: 0.0011438397\n",
            "50000/50000 [==============================] - 57s 1ms/step - loss: 0.3468 - acc: 0.8851 - val_loss: 0.4942 - val_acc: 0.8467\n",
            "Epoch 16/20\n",
            "Learning_rate: 0.0010294557\n",
            "50000/50000 [==============================] - 57s 1ms/step - loss: 0.3252 - acc: 0.8911 - val_loss: 0.4877 - val_acc: 0.8483\n",
            "Epoch 17/20\n",
            "Learning_rate: 0.0009265101\n",
            "50000/50000 [==============================] - 58s 1ms/step - loss: 0.3018 - acc: 0.8991 - val_loss: 0.4837 - val_acc: 0.8514\n",
            "Epoch 18/20\n",
            "Learning_rate: 0.0008338591\n",
            "50000/50000 [==============================] - 57s 1ms/step - loss: 0.2920 - acc: 0.9014 - val_loss: 0.4879 - val_acc: 0.8532\n",
            "Epoch 19/20\n",
            "Learning_rate: 0.0007504732\n",
            "50000/50000 [==============================] - 58s 1ms/step - loss: 0.2731 - acc: 0.9087 - val_loss: 0.4913 - val_acc: 0.8507\n",
            "Epoch 20/20\n",
            "Learning_rate: 0.00067542586\n",
            "50000/50000 [==============================] - 59s 1ms/step - loss: 0.2581 - acc: 0.9137 - val_loss: 0.4867 - val_acc: 0.8569\n"
          ],
          "name": "stdout"
        },
        {
          "output_type": "execute_result",
          "data": {
            "text/plain": [
              "<keras.callbacks.History at 0x7fbe67106860>"
            ]
          },
          "metadata": {
            "tags": []
          },
          "execution_count": 11
        }
      ]
    },
    {
      "cell_type": "markdown",
      "metadata": {
        "id": "PdxM7_PhvIw1",
        "colab_type": "text"
      },
      "source": [
        "# неужееееееееееееееелииииииииииии 0.85"
      ]
    },
    {
      "cell_type": "markdown",
      "metadata": {
        "colab_type": "text",
        "id": "JJLpZQhJGBqL"
      },
      "source": [
        "**Задание 2.2** (2 балла). Реализуйте колбэк, который сохраняет модель в `.hdf5` файл и печатает имя файла, в который была сохранена модель. Используйте функцию `model_save`. Строка с именем файла имеет вид `<name>_{0:02d}.hdf5`, отформатируйте ее так, чтобы в имени строки фигурировал номер эпохи."
      ]
    },
    {
      "cell_type": "code",
      "metadata": {
        "colab_type": "code",
        "id": "xYjUeuDXGBII",
        "colab": {}
      },
      "source": [
        "from keras.models import save_model, load_model\n",
        "\n",
        "class ModelSaveCallback(keras.callbacks.Callback):\n",
        "\n",
        "    def __init__(self, model, file_name):\n",
        "        super().__init__()\n",
        "        self.file_name = file_name\n",
        "        self.model = model\n",
        "\n",
        "    def on_epoch_end(self, epoch, logs=None):\n",
        "        save_model(self.model, self.file_name.format(epoch))\n",
        "        print('{}'.format(self.file_name.format(epoch)))\n"
      ],
      "execution_count": 0,
      "outputs": []
    },
    {
      "cell_type": "markdown",
      "metadata": {
        "colab_type": "text",
        "id": "Svrwkh8ALpHa"
      },
      "source": [
        "**Задание 2.3** (1 балл). Реализуйте функцию, которая с помощью `load_model` будет загружать модель из файла."
      ]
    },
    {
      "cell_type": "code",
      "metadata": {
        "colab_type": "code",
        "id": "fVD0P5V7M00C",
        "colab": {}
      },
      "source": [
        "def load_from_file(model_filename, last_epoch):\n",
        "    return load_model(model_filename.format(last_epoch))"
      ],
      "execution_count": 0,
      "outputs": []
    },
    {
      "cell_type": "code",
      "metadata": {
        "colab_type": "code",
        "id": "zOLb6flQFjCw",
        "colab": {
          "base_uri": "https://localhost:8080/",
          "height": 730
        },
        "outputId": "ade67253-5226-4862-d34f-810e2d9ddc30"
      },
      "source": [
        "INIT_LR = 5e-3\n",
        "BATCH_SIZE = 32\n",
        "EPOCHS = 20\n",
        "\n",
        "model_filename = 'weights_{0:02d}.hdf5'\n",
        "\n",
        "s = reset_tf_session()\n",
        "\n",
        "model = make_model()\n",
        "\n",
        "model.compile(\n",
        "    loss='categorical_crossentropy',\n",
        "    optimizer=keras.optimizers.adamax(lr=INIT_LR),\n",
        "    metrics=['accuracy']\n",
        ")\n",
        "\n",
        "def lr_scheduler(epoch):\n",
        "    return INIT_LR * 0.9 ** epoch \n",
        "\n",
        "# в случае, если обучение было прервано, можно загрузить модель из файла, \n",
        "# соответствующего последней эпохе, за которую есть сохраненные веса\n",
        "model = load_from_file(model_filename, 4)\n",
        "  \n",
        "history = model.fit(\n",
        "    x_train, y_train,\n",
        "    batch_size=BATCH_SIZE,\n",
        "    epochs=EPOCHS,\n",
        "    callbacks=[keras.callbacks.LearningRateScheduler(lr_scheduler),\n",
        "               # не забудьте передать сюда ModelSaveCallback\n",
        "               ModelSaveCallback(model, model_filename)\n",
        "              ],\n",
        "    validation_data=(x_test, y_test),\n",
        "    shuffle=True,\n",
        "    verbose=0\n",
        "    )\n",
        "  \n",
        "  "
      ],
      "execution_count": 15,
      "outputs": [
        {
          "output_type": "stream",
          "text": [
            "/usr/local/lib/python3.6/dist-packages/ipykernel_launcher.py:3: UserWarning: Update your `Conv2D` call to the Keras 2 API: `Conv2D(filters=64, padding=\"same\", kernel_size=(3, 3), input_shape=(32, 32, 3..., kernel_initializer=\"lecun_uniform\")`\n",
            "  This is separate from the ipykernel package so we can avoid doing imports until\n",
            "/usr/local/lib/python3.6/dist-packages/ipykernel_launcher.py:5: UserWarning: Update your `Conv2D` call to the Keras 2 API: `Conv2D(filters=64, padding=\"same\", kernel_size=(3, 3), kernel_initializer=\"lecun_uniform\")`\n",
            "  \"\"\"\n",
            "/usr/local/lib/python3.6/dist-packages/ipykernel_launcher.py:9: UserWarning: Update your `Conv2D` call to the Keras 2 API: `Conv2D(filters=128, padding=\"same\", kernel_size=(3, 3), kernel_initializer=\"lecun_uniform\")`\n",
            "  if __name__ == '__main__':\n",
            "/usr/local/lib/python3.6/dist-packages/ipykernel_launcher.py:11: UserWarning: Update your `Conv2D` call to the Keras 2 API: `Conv2D(filters=128, padding=\"same\", kernel_size=(3, 3), kernel_initializer=\"lecun_uniform\")`\n",
            "  # This is added back by InteractiveShellApp.init_path()\n",
            "/usr/local/lib/python3.6/dist-packages/ipykernel_launcher.py:15: UserWarning: Update your `Conv2D` call to the Keras 2 API: `Conv2D(filters=64, padding=\"same\", kernel_size=(3, 3), kernel_initializer=\"lecun_uniform\")`\n",
            "  from ipykernel import kernelapp as app\n",
            "/usr/local/lib/python3.6/dist-packages/ipykernel_launcher.py:17: UserWarning: Update your `Conv2D` call to the Keras 2 API: `Conv2D(filters=64, padding=\"same\", kernel_size=(3, 3), kernel_initializer=\"lecun_uniform\")`\n",
            "/usr/local/lib/python3.6/dist-packages/ipykernel_launcher.py:21: UserWarning: Update your `Conv2D` call to the Keras 2 API: `Conv2D(filters=128, padding=\"same\", kernel_size=(3, 3), kernel_initializer=\"lecun_uniform\")`\n",
            "/usr/local/lib/python3.6/dist-packages/ipykernel_launcher.py:23: UserWarning: Update your `Conv2D` call to the Keras 2 API: `Conv2D(filters=128, padding=\"same\", kernel_size=(3, 3), kernel_initializer=\"lecun_uniform\")`\n",
            "/usr/local/lib/python3.6/dist-packages/ipykernel_launcher.py:27: UserWarning: Update your `Conv2D` call to the Keras 2 API: `Conv2D(filters=64, padding=\"same\", kernel_size=(3, 3), kernel_initializer=\"lecun_uniform\")`\n",
            "/usr/local/lib/python3.6/dist-packages/ipykernel_launcher.py:29: UserWarning: Update your `Conv2D` call to the Keras 2 API: `Conv2D(filters=64, padding=\"same\", kernel_size=(3, 3), kernel_initializer=\"lecun_uniform\")`\n",
            "/usr/local/lib/python3.6/dist-packages/ipykernel_launcher.py:33: UserWarning: Update your `Conv2D` call to the Keras 2 API: `Conv2D(filters=128, padding=\"same\", kernel_size=(3, 3), kernel_initializer=\"lecun_uniform\")`\n",
            "/usr/local/lib/python3.6/dist-packages/ipykernel_launcher.py:35: UserWarning: Update your `Conv2D` call to the Keras 2 API: `Conv2D(filters=128, padding=\"same\", kernel_size=(3, 3), kernel_initializer=\"lecun_uniform\")`\n",
            "/usr/local/lib/python3.6/dist-packages/ipykernel_launcher.py:40: UserWarning: Update your `Dense` call to the Keras 2 API: `Dense(512, kernel_initializer=\"lecun_uniform\")`\n",
            "/usr/local/lib/python3.6/dist-packages/ipykernel_launcher.py:43: UserWarning: Update your `Dense` call to the Keras 2 API: `Dense(10, kernel_initializer=\"lecun_uniform\")`\n"
          ],
          "name": "stderr"
        },
        {
          "output_type": "stream",
          "text": [
            "weights_00.hdf5\n",
            "weights_01.hdf5\n",
            "weights_02.hdf5\n",
            "weights_03.hdf5\n",
            "weights_04.hdf5\n",
            "weights_05.hdf5\n",
            "weights_06.hdf5\n",
            "weights_07.hdf5\n",
            "weights_08.hdf5\n",
            "weights_09.hdf5\n",
            "weights_10.hdf5\n",
            "weights_11.hdf5\n",
            "weights_12.hdf5\n",
            "weights_13.hdf5\n",
            "weights_14.hdf5\n",
            "weights_15.hdf5\n",
            "weights_16.hdf5\n",
            "weights_17.hdf5\n",
            "weights_18.hdf5\n",
            "weights_19.hdf5\n"
          ],
          "name": "stdout"
        }
      ]
    },
    {
      "cell_type": "code",
      "metadata": {
        "id": "3tCfJpJIsa5q",
        "colab_type": "code",
        "colab": {}
      },
      "source": [
        ""
      ],
      "execution_count": 0,
      "outputs": []
    }
  ]
}